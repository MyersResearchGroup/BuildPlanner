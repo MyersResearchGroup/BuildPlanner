{
 "cells": [
  {
   "cell_type": "markdown",
   "metadata": {},
   "source": [
    "# SBOL2Build"
   ]
  },
  {
   "cell_type": "code",
   "execution_count": 14,
   "metadata": {},
   "outputs": [],
   "source": [
    "import sbol2\n",
    "from Bio import Restriction\n",
    "from pydna.dseqrecord import Dseqrecord\n",
    "from itertools import product"
   ]
  },
  {
   "cell_type": "code",
   "execution_count": null,
   "metadata": {},
   "outputs": [],
   "source": [
    "\n"
   ]
  },
  {
   "cell_type": "code",
   "execution_count": 15,
   "metadata": {},
   "outputs": [],
   "source": [
    "doc = sbol2.Document()\n",
    "doc.addNamespace('http://SBOL2Build#', 'SBOL2Build')"
   ]
  },
  {
   "cell_type": "code",
   "execution_count": null,
   "metadata": {},
   "outputs": [],
   "source": [
    "#target function\n",
    "\n",
    "def ed_restriction_enzyme(name:str, **kwargs) -> sbol3.ExternallyDefined:\n",
    "    \"\"\"Creates an ExternallyDefined Restriction Enzyme Component from rebase.\n",
    "\n",
    "    :param name: Name of the SBOL ExternallyDefined, used by PyDNA. Case sensitive, follow standard restriction enzyme nomenclature, i.e. 'BsaI'\n",
    "    :param kwargs: Keyword arguments of any other ExternallyDefined attribute.\n",
    "    :return: An ExternallyDefined object.\n",
    "    \"\"\"\n",
    "    check_enzyme = Restriction.__dict__[name]\n",
    "    definition=f'http://rebase.neb.com/rebase/enz/{name}.html' # TODO: replace with getting the URI from Enzyme when REBASE identifiers become available in biopython 1.8\n",
    "    return sbol3.ExternallyDefined([sbol3.SBO_PROTEIN], definition=definition, name=name, **kwargs)"
   ]
  },
  {
   "cell_type": "code",
   "execution_count": 16,
   "metadata": {},
   "outputs": [],
   "source": [
    "def rebase_restriction_enzyme(name:str, **kwargs) -> sbol2.ComponentDefinition:\n",
    "    \"\"\"Creates an ComponentDefinition Restriction Enzyme Component from rebase.\n",
    "\n",
    "    :param name: Name of the SBOL ExternallyDefined, used by PyDNA. Case sensitive, follow standard restriction enzyme nomenclature, i.e. 'BsaI'\n",
    "    :param kwargs: Keyword arguments of any other ComponentDefinition attribute.\n",
    "    :return: A ComponentDefinition object.\n",
    "    \"\"\"\n",
    "    check_enzyme = Restriction.__dict__[name]\n",
    "    definition=f'http://rebase.neb.com/rebase/enz/{name}.html' # TODO: replace with getting the URI from Enzyme when REBASE identifiers become available in biopython 1.8\n",
    "    cd = sbol2.ComponentDefinition(name)\n",
    "    cd.types = sbol2.BIOPAX_PROTEIN\n",
    "    cd.roles = []\n",
    "    cd.wasDerivedFrom = definition\n",
    "    cd.description = f'Restriction enzyme {name} from REBASE.'\n",
    "    return cd\n",
    "\n"
   ]
  },
  {
   "cell_type": "code",
   "execution_count": 17,
   "metadata": {},
   "outputs": [],
   "source": [
    "bsai = rebase_restriction_enzyme(name=\"BsaI\")"
   ]
  },
  {
   "cell_type": "code",
   "execution_count": 18,
   "metadata": {},
   "outputs": [
    {
     "data": {
      "text/plain": [
       "['http://rebase.neb.com/rebase/enz/BsaI.html']"
      ]
     },
     "execution_count": 18,
     "metadata": {},
     "output_type": "execute_result"
    }
   ],
   "source": [
    "bsai.wasDerivedFrom"
   ]
  },
  {
   "cell_type": "code",
   "execution_count": null,
   "metadata": {},
   "outputs": [],
   "source": []
  }
 ],
 "metadata": {
  "kernelspec": {
   "display_name": "GLLDB",
   "language": "python",
   "name": "python3"
  },
  "language_info": {
   "codemirror_mode": {
    "name": "ipython",
    "version": 3
   },
   "file_extension": ".py",
   "mimetype": "text/x-python",
   "name": "python",
   "nbconvert_exporter": "python",
   "pygments_lexer": "ipython3",
   "version": "3.9.19"
  }
 },
 "nbformat": 4,
 "nbformat_minor": 2
}
