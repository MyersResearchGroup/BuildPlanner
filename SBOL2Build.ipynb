{
 "cells": [
  {
   "cell_type": "markdown",
   "metadata": {},
   "source": [
    "# SBOL2Build"
   ]
  },
  {
   "cell_type": "code",
   "execution_count": 9,
   "metadata": {},
   "outputs": [],
   "source": [
    "import sbol2\n",
    "import tyto\n",
    "from Bio import Restriction\n",
    "from pydna.dseqrecord import Dseqrecord\n",
    "from itertools import product\n",
    "from typing import Dict, Iterable, List, Union, Optional, Tuple"
   ]
  },
  {
   "cell_type": "code",
   "execution_count": 10,
   "metadata": {},
   "outputs": [],
   "source": [
    "# this document is used by all the next \n",
    "doc = sbol2.Document()\n",
    "doc.addNamespace('http://SBOL2Build#', 'SBOL2Build')"
   ]
  },
  {
   "cell_type": "markdown",
   "metadata": {},
   "source": [
    "# Restriction enzyme"
   ]
  },
  {
   "cell_type": "markdown",
   "metadata": {},
   "source": [
    "## Target function in SBOL3"
   ]
  },
  {
   "cell_type": "code",
   "execution_count": 11,
   "metadata": {},
   "outputs": [
    {
     "ename": "NameError",
     "evalue": "name 'sbol3' is not defined",
     "output_type": "error",
     "traceback": [
      "\u001b[0;31m---------------------------------------------------------------------------\u001b[0m",
      "\u001b[0;31mNameError\u001b[0m                                 Traceback (most recent call last)",
      "Cell \u001b[0;32mIn[11], line 3\u001b[0m\n\u001b[1;32m      1\u001b[0m \u001b[38;5;66;03m#target function\u001b[39;00m\n\u001b[0;32m----> 3\u001b[0m \u001b[38;5;28;01mdef\u001b[39;00m \u001b[38;5;21med_restriction_enzyme\u001b[39m(name:\u001b[38;5;28mstr\u001b[39m, \u001b[38;5;241m*\u001b[39m\u001b[38;5;241m*\u001b[39mkwargs) \u001b[38;5;241m-\u001b[39m\u001b[38;5;241m>\u001b[39m \u001b[43msbol3\u001b[49m\u001b[38;5;241m.\u001b[39mExternallyDefined:\n\u001b[1;32m      4\u001b[0m \u001b[38;5;250m    \u001b[39m\u001b[38;5;124;03m\"\"\"Creates an ExternallyDefined Restriction Enzyme Component from rebase.\u001b[39;00m\n\u001b[1;32m      5\u001b[0m \n\u001b[1;32m      6\u001b[0m \u001b[38;5;124;03m    :param name: Name of the SBOL ExternallyDefined, used by PyDNA. Case sensitive, follow standard restriction enzyme nomenclature, i.e. 'BsaI'\u001b[39;00m\n\u001b[1;32m      7\u001b[0m \u001b[38;5;124;03m    :param kwargs: Keyword arguments of any other ExternallyDefined attribute.\u001b[39;00m\n\u001b[1;32m      8\u001b[0m \u001b[38;5;124;03m    :return: An ExternallyDefined object.\u001b[39;00m\n\u001b[1;32m      9\u001b[0m \u001b[38;5;124;03m    \"\"\"\u001b[39;00m\n\u001b[1;32m     10\u001b[0m     check_enzyme \u001b[38;5;241m=\u001b[39m Restriction\u001b[38;5;241m.\u001b[39m\u001b[38;5;18m__dict__\u001b[39m[name]\n",
      "\u001b[0;31mNameError\u001b[0m: name 'sbol3' is not defined"
     ]
    }
   ],
   "source": [
    "#target function\n",
    "\n",
    "def ed_restriction_enzyme(name:str, **kwargs) -> sbol3.ExternallyDefined:\n",
    "    \"\"\"Creates an ExternallyDefined Restriction Enzyme Component from rebase.\n",
    "\n",
    "    :param name: Name of the SBOL ExternallyDefined, used by PyDNA. Case sensitive, follow standard restriction enzyme nomenclature, i.e. 'BsaI'\n",
    "    :param kwargs: Keyword arguments of any other ExternallyDefined attribute.\n",
    "    :return: An ExternallyDefined object.\n",
    "    \"\"\"\n",
    "    check_enzyme = Restriction.__dict__[name]\n",
    "    definition=f'http://rebase.neb.com/rebase/enz/{name}.html' # TODO: replace with getting the URI from Enzyme when REBASE identifiers become available in biopython 1.8\n",
    "    return sbol3.ExternallyDefined([sbol3.SBO_PROTEIN], definition=definition, name=name, **kwargs)"
   ]
  },
  {
   "cell_type": "markdown",
   "metadata": {},
   "source": [
    "## SBOL 2 implementation"
   ]
  },
  {
   "cell_type": "code",
   "execution_count": 12,
   "metadata": {},
   "outputs": [],
   "source": [
    "def rebase_restriction_enzyme(name:str, **kwargs) -> sbol2.ComponentDefinition:\n",
    "    \"\"\"Creates an ComponentDefinition Restriction Enzyme Component from rebase.\n",
    "\n",
    "    :param name: Name of the SBOL ExternallyDefined, used by PyDNA. Case sensitive, follow standard restriction enzyme nomenclature, i.e. 'BsaI'\n",
    "    :param kwargs: Keyword arguments of any other ComponentDefinition attribute.\n",
    "    :return: A ComponentDefinition object.\n",
    "    \"\"\"\n",
    "    check_enzyme = Restriction.__dict__[name]\n",
    "    definition=f'http://rebase.neb.com/rebase/enz/{name}.html' # TODO: replace with getting the URI from Enzyme when REBASE identifiers become available in biopython 1.8\n",
    "    cd = sbol2.ComponentDefinition(name)\n",
    "    cd.types = sbol2.BIOPAX_PROTEIN\n",
    "    cd.name = name\n",
    "    cd.roles = []\n",
    "    cd.wasDerivedFrom = definition\n",
    "    cd.description = f'Restriction enzyme {name} from REBASE.'\n",
    "    return cd\n",
    "\n"
   ]
  },
  {
   "cell_type": "markdown",
   "metadata": {},
   "source": [
    "## Tests"
   ]
  },
  {
   "cell_type": "code",
   "execution_count": 13,
   "metadata": {},
   "outputs": [],
   "source": [
    "bsai = rebase_restriction_enzyme(name=\"BsaI\")"
   ]
  },
  {
   "cell_type": "code",
   "execution_count": 14,
   "metadata": {},
   "outputs": [
    {
     "name": "stdout",
     "output_type": "stream",
     "text": [
      "BsaI\n"
     ]
    }
   ],
   "source": [
    "bsai.wasDerivedFrom\n",
    "print(bsai.name)"
   ]
  },
  {
   "cell_type": "markdown",
   "metadata": {},
   "source": [
    "# DNA ComponentDefinition with Sequence"
   ]
  },
  {
   "cell_type": "markdown",
   "metadata": {},
   "source": [
    "## Target function in SBOL3"
   ]
  },
  {
   "cell_type": "code",
   "execution_count": null,
   "metadata": {},
   "outputs": [],
   "source": [
    "#target helper function\n",
    "def dna_component_with_sequence(identity: str, sequence: str, **kwargs) -> Tuple[sbol3.Component, sbol3.Sequence]:\n",
    "    \"\"\"Creates a DNA Component and its Sequence.\n",
    "\n",
    "    :param identity: The identity of the Component. The identity of Sequence is also identity with the suffix '_seq'.\n",
    "    :param sequence: The DNA sequence of the Component encoded in IUPAC.\n",
    "    :param kwargs: Keyword arguments of any other Component attribute.\n",
    "    :return: A tuple of Component and Sequence.\n",
    "    \"\"\"\n",
    "    comp_seq = sbol3.Sequence(f'{identity}_seq', elements=sequence, encoding=sbol3.IUPAC_DNA_ENCODING)\n",
    "    dna_comp = sbol3.Component(identity, sbol3.SBO_DNA, sequences=[comp_seq], **kwargs)\n",
    "    return dna_comp, comp_seq\n"
   ]
  },
  {
   "cell_type": "markdown",
   "metadata": {},
   "source": [
    "## SBOL2 implementation"
   ]
  },
  {
   "cell_type": "code",
   "execution_count": 15,
   "metadata": {},
   "outputs": [],
   "source": [
    "def dna_componentdefinition_with_sequence2(identity: str, sequence: str, **kwargs) -> Tuple[sbol2.ComponentDefinition, sbol2.Sequence]:\n",
    "    \"\"\"Creates a DNA ComponentDefinition and its Sequence.\n",
    "\n",
    "    :param identity: The identity of the Component. The identity of Sequence is also identity with the suffix '_seq'.\n",
    "    :param sequence: The DNA sequence of the Component encoded in IUPAC.\n",
    "    :param kwargs: Keyword arguments of any other Component attribute.\n",
    "    :return: A tuple of ComponentDefinition and Sequence.\n",
    "    \"\"\"\n",
    "    comp_seq = sbol2.Sequence(f'{identity}_seq', elements=sequence, encoding=sbol2.SBOL_ENCODING_IUPAC)\n",
    "    dna_comp = sbol2.ComponentDefinition(identity, sbol2.BIOPAX_DNA, **kwargs)\n",
    "    dna_comp.sequences = [comp_seq]\n",
    "\n",
    "    return dna_comp, comp_seq"
   ]
  },
  {
   "cell_type": "markdown",
   "metadata": {},
   "source": [
    "## Tests"
   ]
  },
  {
   "cell_type": "markdown",
   "metadata": {},
   "source": [
    "# Part in Backbone from SBOL"
   ]
  },
  {
   "cell_type": "code",
   "execution_count": null,
   "metadata": {},
   "outputs": [],
   "source": [
    "#target func\n",
    "\n",
    "def part_in_backbone_from_sbol(identity: Union[str, None],  sbol_comp: sbol3.Component, part_location: List[int], part_roles:List[str], fusion_site_length:int, linear:bool=False, **kwargs) -> Tuple[sbol3.Component, sbol3.Sequence]:\n",
    "    \"\"\"Restructures a non-hierarchical plasmid Component to follow the part-in-backbone pattern following BP011.\n",
    "    It overwrites the SBOL3 Component provided. \n",
    "    A part inserted into a backbone is represented by a Component that includes both the part insert \n",
    "    as a feature that is a SubComponent and the backbone as another SubComponent.\n",
    "    For more information about BP011 visit https://github.com/SynBioDex/SBOL-examples/tree/main/SBOL/best-practices/BP011 \n",
    "\n",
    "    :param identity: The identity of the Component, is its a String it build a new SBOL Component, if None it adds on top of the input. The identity of Sequence is also identity with the suffix '_seq'.\n",
    "    :param sbol_comp: The SBOL3 Component that will be used to create the part in backbone Component and Sequence.\n",
    "    :param part_location: List of 2 integers that indicates the start and the end of the unitary part. Note that the index of the first location is 1, as is typical practice in biology, rather than 0, as is typical practice in computer science.\n",
    "    :param part_roles: List of strings that indicates the roles to add on the part.\n",
    "    :param fusion_site_length: Integer of the length of the fusion sites (eg. BsaI fusion site lenght is 4, SapI fusion site lenght is 3)\n",
    "    :param linear: Boolean than indicates if the backbone is linear, by default it is seted to Flase which means that it has a circular topology.    \n",
    "    :param kwargs: Keyword arguments of any other Component attribute.\n",
    "    :return: A tuple of Component and Sequence.\n",
    "    \"\"\"\n",
    "    if len(part_location) != 2:\n",
    "        raise ValueError('The part_location only accepts 2 int values in a list.')\n",
    "    if len(sbol_comp.sequences)!=1:\n",
    "        raise ValueError(f'The reactant needs to have precisely one sequence. The input reactant has {len(sbol_comp.sequences)} sequences')\n",
    "    sequence = sbol_comp.sequences[0].lookup().elements\n",
    "    if identity == None:\n",
    "        part_in_backbone_component = sbol_comp \n",
    "        part_in_backbone_seq = sbol_comp.sequences[0]\n",
    "    else:\n",
    "        part_in_backbone_component, part_in_backbone_seq = dna_component_with_sequence(identity, sequence, **kwargs)\n",
    "    part_in_backbone_component.roles.append(sbol3.SO_DOUBLE_STRANDED)\n",
    "    for part_role in part_roles:  \n",
    "        part_in_backbone_component.roles.append(part_role)  \n",
    "    # creating part feature    \n",
    "    part_location_comp = sbol3.Range(sequence=part_in_backbone_seq, start=part_location[0], end=part_location[1])\n",
    "    #TODO: add the option of fusion sites to be of different lenghts\n",
    "    insertion_site_location1 = sbol3.Range(sequence=part_in_backbone_seq, start=part_location[0], end=part_location[0]+fusion_site_length, order=1)\n",
    "    insertion_site_location2 = sbol3.Range(sequence=part_in_backbone_seq, start=part_location[1]-fusion_site_length, end=part_location[1], order=3)\n",
    "    part_sequence_feature = sbol3.SequenceFeature(locations=[part_location_comp], roles=part_roles)\n",
    "    part_sequence_feature.roles.append(tyto.SO.engineered_insert)\n",
    "    insertion_sites_feature = sbol3.SequenceFeature(locations=[insertion_site_location1, insertion_site_location2], roles=[tyto.SO.insertion_site])\n",
    "    #TODO: infer topology from the input\n",
    "    if linear:\n",
    "        part_in_backbone_component.types.append(sbol3.SO_LINEAR)\n",
    "        part_in_backbone_component.roles.append(sbol3.SO_ENGINEERED_REGION)\n",
    "        # creating backbone feature\n",
    "        open_backbone_location1 = sbol3.Range(sequence=part_in_backbone_seq, start=1, end=part_location[0]+fusion_site_length-1, order=1)\n",
    "        open_backbone_location2 = sbol3.Range(sequence=part_in_backbone_seq, start=part_location[1]-fusion_site_length, end=len(sequence), order=3)\n",
    "        open_backbone_feature = sbol3.SequenceFeature(locations=[open_backbone_location1, open_backbone_location2])\n",
    "    else: \n",
    "        part_in_backbone_component.types.append(sbol3.SO_CIRCULAR)\n",
    "        part_in_backbone_component.roles.append(tyto.SO.plasmid_vector)\n",
    "        # creating backbone feature\n",
    "        open_backbone_location1 = sbol3.Range(sequence=part_in_backbone_seq, start=1, end=part_location[0]+fusion_site_length-1, order=2)\n",
    "        open_backbone_location2 = sbol3.Range(sequence=part_in_backbone_seq, start=part_location[1]-fusion_site_length, end=len(sequence), order=1)\n",
    "        open_backbone_feature = sbol3.SequenceFeature(locations=[open_backbone_location1, open_backbone_location2])\n",
    "    part_in_backbone_component.features.append(part_sequence_feature)\n",
    "    part_in_backbone_component.features.append(insertion_sites_feature)\n",
    "    part_in_backbone_component.features.append(open_backbone_feature)\n",
    "    backbone_dropout_meets = sbol3.Constraint(restriction='http://sbols.org/v3#meets', subject=part_sequence_feature, object=open_backbone_feature)\n",
    "    part_in_backbone_component.constraints.append(backbone_dropout_meets)\n",
    "    #TODO: Add a branch to create a component without overwriting the WHOLE input component\n",
    "    #removing repeated types and roles\n",
    "    part_in_backbone_component.types = set(part_in_backbone_component.types)\n",
    "    part_in_backbone_component.roles = set(part_in_backbone_component.roles)\n",
    "    return part_in_backbone_component, part_in_backbone_seq"
   ]
  },
  {
   "cell_type": "code",
   "execution_count": 218,
   "metadata": {},
   "outputs": [],
   "source": [
    "def part_in_backbone_from_sbol2(identity: Union[str, None],  sbol_comp: sbol2.ModuleDefinition, part_location: List[int], part_roles:List[str], fusion_site_length:int, linear:bool=False, **kwargs) -> Tuple[sbol2.ComponentDefinition, sbol2.Sequence]:\n",
    "    if len(part_location) != 2:\n",
    "        raise ValueError('The part_location only accepts 2 int values in a list.')\n",
    "    if len(sbol_comp.sequences)!=1:\n",
    "        raise ValueError(f'The reactant needs to have precisely one sequence. The input reactant has {len(sbol_comp.sequences)} sequences')\n",
    "    sequence = doc.find(sbol_comp.sequences[0]).elements\n",
    "    if identity == None:\n",
    "        part_in_backbone_component = sbol_comp \n",
    "        part_in_backbone_seq = doc.find(sbol_comp.sequences[0]).elements\n",
    "        part_in_backbone_component.sequences = [part_in_backbone_seq]\n",
    "    else:\n",
    "        part_in_backbone_component, part_in_backbone_seq = rebase_dna_component_with_sequence(identity, sequence, **kwargs)\n",
    "    # double stranded\n",
    "    part_in_backbone_component.addRole('http://identifiers.org/so/SO:0000985')\n",
    "    for part_role in part_roles:  \n",
    "        part_in_backbone_component.addRole(part_role)\n",
    "\n",
    "    # creating part annotation    \n",
    "    part_location_comp = sbol2.Range( start=part_location[0], end=part_location[1])\n",
    "    insertion_site_location1 = sbol2.Range( uri=\"insertloc1\", start=part_location[0], end=part_location[0]+fusion_site_length) #order 1\n",
    "    insertion_site_location2 = sbol2.Range( uri=\"insertloc2\", start=part_location[1]-fusion_site_length, end=part_location[1]) #order 3\n",
    "\n",
    "    part_sequence_annotation = sbol2.SequenceAnnotation('part_sequence_annotation')\n",
    "    part_sequence_annotation.roles = part_roles\n",
    "    part_sequence_annotation.locations.add(part_location_comp)\n",
    "\n",
    "    part_sequence_annotation.addRole(tyto.SO.engineered_insert)\n",
    "    insertion_sites_annotation = sbol2.SequenceAnnotation('insertion_sites_annotation')\n",
    "\n",
    "    insertion_sites_annotation.locations.add(insertion_site_location1)\n",
    "    insertion_sites_annotation.locations.add(insertion_site_location2)\n",
    "    \n",
    "    insertion_sites_annotation.roles = [tyto.SO.insertion_site]\n",
    "    if linear:\n",
    "        part_in_backbone_component.addRole('http://identifiers.org/so/SO:0000987') #linear\n",
    "        part_in_backbone_component.addRole('http://identifiers.org/so/SO:0000804') #engineered region\n",
    "        # creating backbone feature\n",
    "        open_backbone_location1 = sbol2.Range(start=1, end=part_location[0]+fusion_site_length-1) #order 1\n",
    "        open_backbone_location2 = sbol2.Range(start=part_location[1]-fusion_site_length, end=len(sequence)) #order 3\n",
    "        open_backbone_annotation = sbol2.SequenceAnnotation(locations=[open_backbone_location1, open_backbone_location2])\n",
    "    else: \n",
    "        part_in_backbone_component.addRole('http://identifiers.org/so/SO:0000988') #circular\n",
    "        part_in_backbone_component.addRole(tyto.SO.plasmid_vector)\n",
    "        # creating backbone feature\n",
    "        open_backbone_location1 = sbol2.Range( uri=\"backboneloc1\", start=1, end=part_location[0]+fusion_site_length-1 ) #order 2\n",
    "        open_backbone_location2 = sbol2.Range( uri=\"backboneloc2\", start=part_location[1]-fusion_site_length, end=len(sequence)) #order 1\n",
    "        open_backbone_annotation = sbol2.SequenceAnnotation('open_backbone_annotation')\n",
    "        open_backbone_annotation.locations.add(open_backbone_location1)\n",
    "        open_backbone_annotation.locations.add(open_backbone_location2)\n",
    "        \n",
    "    part_in_backbone_component.sequenceAnnotations.add(part_sequence_annotation)\n",
    "    part_in_backbone_component.sequenceAnnotations.add(insertion_sites_annotation)\n",
    "    part_in_backbone_component.sequenceAnnotations.add(open_backbone_annotation) \n",
    "    # use sequenceconstrait with precedes\n",
    "    # backbone_dropout_meets = sbol3.Constraint(restriction='http://sbols.org/v3#meets', subject=part_sequence_annotation, object=open_backbone_annotation) #????\n",
    "    backbone_dropout_meets = sbol2.sequenceconstraint.SequenceConstraint(uri='backbone_dropout_meets', restriction=sbol2.SBOL_RESTRICTION_PRECEDES) #might need to add uri as param 2\n",
    "    backbone_dropout_meets.subject = part_sequence_annotation\n",
    "    backbone_dropout_meets.object = open_backbone_annotation\n",
    "    \n",
    "    part_in_backbone_component.sequenceConstraints.add(backbone_dropout_meets)\n",
    "    #TODO: Add a branch to create a component without overwriting the WHOLE input component\n",
    "    #removing repeated types and roles\n",
    "    part_in_backbone_component.types = set(part_in_backbone_component.types)\n",
    "    part_in_backbone_component.roles = set(part_in_backbone_component.roles)\n",
    "    return part_in_backbone_component, part_in_backbone_seq"
   ]
  },
  {
   "cell_type": "code",
   "execution_count": 232,
   "metadata": {},
   "outputs": [
    {
     "name": "stdout",
     "output_type": "stream",
     "text": [
      "http://examples.org/Range/insertloc1/1 at 5205243376\n",
      "http://examples.org/Range/insertloc2/1 at 5205233920\n"
     ]
    }
   ],
   "source": [
    "# benchling plasmid test\n",
    "doc = sbol2.Document()\n",
    "benchling_comp = sbol2.ComponentDefinition('benchling_comp', sbol2.BIOPAX_DNA)\n",
    "\n",
    "benchSeq = sbol2.Sequence('benchSeq', 'tcattgccatacgaaattccggatgagcattcatcaggcgggcaagaatgtgaataaaggccggataaaacttgtgcttatttttctttacggtctttaaaaaggccgtaatatccagctgaacggtctggttataggtacattgagcaactgactgaaatgcctcaaaatgttctttacgatgccattgggatatatcaacggtggtatatccagtgatttttttctccattttagcttccttagctcctgaaaatctcgataactcaaaaaatacgcccggtagtgatcttatttcattatggtgaaagttggaacctcttacgtgcccgatcaactcgagtgccacctgacgtctaagaaaccattattatcatgacattaacctataaaaataggcgtatcacgaggcagaatttcagataaaaaaaatccttagctttcgctaaggatgatttctggaattcggtctcgGGAGtttacagctagctcagtcctaggtattatgctagcTACTCGAGaccctgcagtccggcaaaaaagggcaaggtgtcaccaccctgccctttttctttaaaaccgaaaagattacttcgcgttatgcaggcttcctcgctcactgactcgctgcgctcggtcgttcggctgcggcgagcggtatcagctcactcaaaggcggtaatacggttatccacagaatcaggggataacgcaggaaagaacatgtgagcaaaaggccagcaaaaggccaggaaccgtaaaaaggccgcgttgctggcgtttttccacaggctccgcccccctgacgagcatcacaaaaatcgacgctcaagtcagaggtggcgaaacccgacaggactataaagataccaggcgtttccccctggaagctccctcgtgcgctctcctgttccgaccctgccgcttaccggatacctgtccgcctttctcccttcgggaagcgtggcgctttctcatagctcacgctgtaggtatctcagttcggtgtaggtcgttcgctccaagctgggctgtgtgcacgaaccccccgttcagcccgaccgctgcgccttatccggtaactatcgtcttgagtccaacccggtaagacacgacttatcgccactggcagcagccactggtaacaggattagcagagcgaggtatgtaggcggtgctacagagttcttgaagtggtggcctaactacggctacactagaagaacagtatttggtatctgcgctctgctgaagccagttaccttcggaaaaagagttggtagctcttgatccggcaaacaaaccaccgctggtagcggtggtttttttgtttgcaagcagcagattacgcgcagaaaaaaaggatctcaagaagatcctttgatcttttctacggggtctgacgctcagtggaacgaaaactcacgttaagggattttggtcatgagattatcaaaaaggatcttcacctagatccttttaaattaaaaatgaagttttaaatcaatctaaagtatatatgagtaaacttggtctgacagctcgaggcttggattctcaccaataaaaaacgcccggcggcaaccgagcgttctgaacaaatccagatggagttctgaggtcattactggatctatcaacaggagtccaagcgagctcgatatcaaattacgccccgccctgccactcatcgcagtactgttgtaattcattaagcattctgccgacatggaagccatcacaaacggcatgatgaacctgaatcgccagcggcatcagcaccttgtcgccttgcgtataatatttgcccatggtgaaaacgggggcgaagaagttgtccatattggccacgtttaaatcaaaactggtgaaactcacccagggattggctgagacgaaaaacatattctcaataaaccctttagggaaataggccaggttttcaccgtaacacgccacatcttgcgaatatatgtgtagaaactgccggaaatcgtcgtggtattcactccagagcgatgaaaacgtttcagtttgctcatggaaaacggtgtaacaagggtgaacactatcccatatcaccagctcaccgtct', sbol2.SBOL_ENCODING_IUPAC)\n",
    "\n",
    "doc.addComponentDefinition(benchling_comp)\n",
    "doc.addSequence(benchSeq)\n",
    "benchling_comp.sequences = [benchSeq] \n",
    "\n",
    "resultComponent, resultSequence = rebase_part_in_backbone_from_sbol(identity=\"benchling_comp\", sbol_comp=benchling_comp, part_location=[531, 602], part_roles=[], fusion_site_length=6)\n",
    "\n",
    "doc2 = sbol2.Document()\n",
    "\n",
    "doc2.addComponentDefinition(resultComponent)\n",
    "doc2.addComponentDefinition(resultSequence)\n"
   ]
  },
  {
   "cell_type": "code",
   "execution_count": 233,
   "metadata": {},
   "outputs": [
    {
     "data": {
      "text/plain": [
       "'Invalid. sbol-11403:\\x00 Strong Validation Error:\\x00 The Component referenced by the subject property of a SequenceConstraint MUST be contained by the ComponentDefinition that contains the SequenceConstraint. \\x00Reference: SBOL Version 2.3.0 Section 7.7.6 on page 36 :\\x00 http://examples.org/ComponentDefinition/benchling_comp/backbone_dropout_meets/1\\x00  Validation failed.'"
      ]
     },
     "execution_count": 233,
     "metadata": {},
     "output_type": "execute_result"
    }
   ],
   "source": [
    "doc2.write('example1.xml')"
   ]
  },
  {
   "cell_type": "code",
   "execution_count": 174,
   "metadata": {},
   "outputs": [
    {
     "name": "stdout",
     "output_type": "stream",
     "text": [
      "gcttcctcgctcactgactcgctgcacgaggcagacctcagcgctagcggagtgtatactggcttactatgttggcactgatgagggtgtcagtgaagtgcttcatgtggcaggagaaaaaaggctgcaccggtgcgtcagcagaatatgtgatacaggatatattccgcttcctcgctcactgactcgctacgctcggtcgttcgactgcggcgagcggaaatggcttacgaacggggcggagatttcctggaagatgccaggaagatacttaacagggaagtgagagggccgcggcaaagccgtttttccataggctccgcccccctgacaagcatcacgaaatctgacgctcaaatcagtggtggcgaaacccgacaggactataaagataccaggcgtttcccctggcggctccctcgtgcgctctcctgttcctgcctttcggtttaccggtgtcattccgctgttatggccgcgtttgtctcattccacgcctgacactcagttccgggtaggcagttcgctccaagctggactgtatgcacgaaccccccgttcagtccgaccgctgcgccttatccggtaactatcgtcttgagtccaacccggaaagacatgcaaaagcaccactggcagcagccactggtaattgatttagaggagttagtcttgaagtcatgcgccggttaaggctaaactgaaaggacaagttttggtgactgcgctcctccaagccagttacctcggttcaaagagttggtagctcagagaaccttcgaaaaaccgccctgcaaggcggttttttcgttttcagagcaagagattacgcgcagaccaaaacgatctcaagaagatcatcttattaaggggtctgacgctcagtggaacgaaaaatcaatctaaagtatatatgagtaaacttggtctgacagttaccttagaaaaactcatcgagcatcaaatgaaactgcaatttattcatatcaggattatcaataccatatttttgaaaaagccgtttctgtaatgaaggagaaaactcaccgaggcagttccataggatggcaagatcctggtatcggtctgcgattccgactcgtccaacatcaatacaacctattaatttcccctcgtcaaaaataaggttatcaagtgagaaatcaccatgagtgacgactgaatccggtgagaatggcaaaagcttatgcatttctttccagacttgttcaacaggccagccattacgctcgtcatcaaaatcactcgcatcaaccaaaccgttattcattcgtgattgcgcctgagcgagacgaaatacgcgatcgctgttaaaaggacaattacaaacaggaatcgaatgcaaccggcgcaggaacactgccagcgcatcaacaatattttcacctgaatcaggatattcttctaatacctggaatgctgttttcccggggatcgcagtggtgagtaaccatgcatcatcaggagtacggataaaatgcttgatggtcggaagaggcataaattccgtcagccagtttagtctgaccatctcatctgtaacatcattggcaacgctacctttgccatgtttcagaaacaactctggcgcatcgggcttcccatacaatcgatagattgtcgcacctgattgcccgacattatcgcgagcccatttatacccatataaatcagcatccatgttggaatttaatcgcggcctcgagcaagacgtttcccgttgaatatggctcataacaccccttgtattactgtttatgtaagcagacagttttattgttcatgatgatatatttttatcttgtgcaatgtacatcagagattttgagacacaaCCAATTATTGAAGGCCTCCCTAACGGGGGGCCTTTTTTTGTTTCTGGTCTCCCGCTTTCTATGATTGGTCCAGATTCGTTACCAATTGACAGCTAGCTCAGTCCTAGGTATATACATACATGCTTGTTTGTTTGTAAACAGCGCGGGTGAGAGGGATTCGTTACCAATTGACAATTGATTGGACGTTCAATATAATGCTAGCCTGAAGCGGTCAACGCATGTGCTTTGCGTTCTGATGAGACAGTGATGTCGAAACCGCCTCTACAAATAATTTTGTTTAACTTTACGAGGGCGATCCTATGGCACGTACCCCGAGCCGTAGCAGCATTGGTAGCCTGCGTAGTCCGCATACCCATAAAGCAATTCTGACCAGCACCATTGAAATCCTGAAAGAATGTGGTTATAGCGGTCTGAGCATTGAAAGCGTTGCACGTCGTGCCGGTGCAAGCAAACCGACCATTTATCGTTGGTGGACCAATAAAGCAGCACTGATTGCCGAAGTGTATGAAAATGAAAGCGAACAGGTGCGTAAATTTCCGGATCTGGGTAGCTTTAAAGCCGATCTGGATTTTCTGCTGCGTAATCTGTGGAAAGTTTGGCGTGAAACCATTTGTGGTGAAGCATTTCGTTGTGTTATTGCAGAAGCACAGCTGGACCCTGCAACCCTGACCCAGCTGAAAGATCAGTTTATGGAACGTCGTCGTGAGATGCCGAAAAAACTGGTTGAAAATGCCATTAGCAATGGTGAACTGCCGAAAGATACCAATCGTGAACTGCTGCTGGATATGATTTTTGGTTTTTGTTGGTATCGCCTGCTGACCGAACAGCTGACCGTTGAACAGGATATTGAAGAATTTACCTTCCTGCTGATTAATGGTGTTTGTCCGGGTACACAGCGTTAAGGAAACACAGAAAAAAGCCCGCACCTGACAGTGCGGGCTTTTTTTTTCGACCAAAGGTGTCAACGATCGTTGGCTGTGTTGACAATTAATCATCGGCTCGTATAATGTGTGGAATTGTGAGCGCTCACAATTTACTCCACCGTTGGCTTTTTTCCCTATCAGTGATAGAGATTGACATCCCTATCAGTGATAGAGATAATGAGCACCTGAAGCGCTCAACGGGTGTGCTTCCCGTTCTGATGAGTCCGTGAGGACGAAAGCGCCTCTACAAATAATTTTGTTTAAGAGTCTATGGACTATGTTTTCACAAAGGAAGTACCAGGATGGCACGTAAAACCGCAGCAGAAGCAGAAGAAACCCGTCAGCGTATTATTGATGCAGCACTGGAAGTTTTTGTTGCACAGGGTGTTAGTGATGCAACCCTGGATCAGATTGCACGTAAAGCCGGTGTTACCCGTGGTGCAGTTTATTGGCATTTTAATGGTAAACTGGAAGTTCTGCAGGCAGTTCTGGCAAGCCGTCAGCATCCGCTGGAACTGGATTTTACACCGGATCTGGGTATTGAACGTAGCTGGGAAGCAGTTGTTGTTGCAATGCTGGATGCAGTTCATAGTCCGCAGAGCAAACAGTTTAGCGAAATTCTGATTTATCAGGGTCTGGATGAAAGCGGTCTGATTCATAATCGTATGGTTCAGGCAAGCGATCGTTTTCTGCAGTATATTCATCAGGTTCTGCGTCATGCAGTTACCCAGGGTGAACTGCCGATTAATCTGGATCTGCAGACCAGCATTGGTGTTTTTAAAGGTCTGATTACCGGTCTGCTGTATGAAGGTCTGCGTAGCAAAGATCAGCAGGCACAGATTATCAAAGTTGCACTGGGTAGCTTTTGGGCACTGCTGCGTGAACCGCCTCGTTTTCTGCTGTGTGAAGAAGCACAGATTAAACAGGTGAAATCCTTCGAATAATTCAGCCAAAAAACTTAAGACCGCCGGTCTTGTCCACTACCTTGCAGTAATGCGGTGGACAGGATCGGCGGTTTTCTTTTCTCTTCTCAAGGGCACCAGGAATCTGAACGATTCGTTACCAATTGACATATTTAAAATTCTTGTTTAAAATGCTAGCTCGTCACTAGAGGGCGATAGTGACAAACTTGACAACTCATCACTTCCTAGGTATAATGCTAGCCTGAAGAAGTCAATTAATGTGCTTTTAATTCTGATGAGTCGGTGACGACGAAACTTCCTCTACAAATAATTTTGTTTAACCCCCCGAGGAGTAGCACATGCCGAAACTGGGTATGCAGAGCATTCGTCGTCGTCAGCTGATTGATGCAACCCTGGAAGCAATTAATGAAGTTGGTATGCATGATGCAACCATTGCACAGATTGCACGTCGTGCCGGTGTTAGCACCGGTATTATTAGCCATTATTTCCGCGATAAAAACGGTCTGCTGGAAGCAACCATGCGTGATATTACCAGCCAGCTGCGTGATGCAGTTCTGAATCGTCTGCATGCACTGCCGCAGGGTAGCGCAGAACAGCGTCTGCAGGCAATTGTTGGTGGTAATTTTGATGAAACCCAGGTTAGCAGCGCAGCAATGAAAGCATGGCTGGCATTTTGGGCAAGCAGCATGCATCAGCCGATGCTGTATCGTCTGCAGCAGGTTAGCAGTCGTCGTCTGCTGAGCAATCTGGTTAGCGAATTTCGTCGTGAACTGCCTCGTGAACAGGCACAAGAGGCAGGTTATGGTCTGGCAGCACTGATTGATGGTCTGTGGCTGCGTGCAGCACTGAGCGGTAAACCGCTGGATAAAACCCGTGCAAATAGCCTGACCCGTCATTTTATCACCCAGCATCTGCCGACCGATTAACCAATTATTGAACACCCTTCGGGGTGTTTTTTTGTTTCTGGTCTACCGTAATACTCCACCGTTGGCTTTTTTCCCTATCAGTGATAGAGATTGACATCCCTATCAGTGATAGAGATAATGAGCACCTGAAGGGGTCAGTTGATGTGCTTTCAACTCTGATGAGTCAGTGATGACGAAACCCCCTCTACAAATAATTTTGTTTAACTATGGACTATGTTTTCACATACGAGGGGGATTAGATGAACAAAACCATTGATCAGGTGCGTAAAGGTGATCGTAAAAGCGATCTGCCGGTTCGTCGTCGTCCGCGTCGTAGTGCCGAAGAAACCCGTCGTGATATTCTGGCAAAAGCCGAAGAACTGTTTCGTGAACGTGGTTTTAATGCAGTTGCCATTGCAGATATTGCAAGCGCACTGAATATGAGTCCGGCAAATGTGTTTAAACATTTTAGCAGCAAAAACGCACTGGTTGATGCAATTGGTTTTGGTCAGATTGGTGTTTTTGAACGTCAGATTTGTCCGCTGGATAAAAGCCATGCACCGCTGGATCGTCTGCGTCATCTGGCACGTAATCTGATGGAACAGCATCATCAGGATCATTTCAAACACATACGGGTTTTTATTCAGATCCTGATGACCGCCAAACAGGATATGAAATGTGGCGATTATTACAAAAGCGTGATTGCAAAACTGCTGGCCGAAATTATTCGTGATGGTGTTGAAGCAGGTCTGTATATTGCAACCGATATTCCGGTTCTGGCAGAAACCGTTCTGCATGCACTGACCAGCGTTATTCATCCGGTTCTGATTGCACAAGAAGATATTGGTAATCTGGCAACCCGTTGTGATCAGCTGGTTGATCTGATTGATGCAGGTCTGCGTAATCCGCTGGCAAAATAACCAATTATTGAACACCCTAACGGGTGTTTTTTTTTTTTTGGTCTACCCGCTAACGATCGTTGGCTGTGTTGACAATTAATCATCGGCTCGTATAATGTGTGGAATTGTGAGCGCTCACAATTCTGAAGTAGTCACCGGCTGTGCTTGCCGGTCTGATGAGCCTGTGAAGGCGAAACTACCTCTACAAATAATTTTGTTTAAACCCCCGAGATGAAATACATCCTGTTTGAGGTGTGCGAAATGGGTAAAAGCCGTGAACAGACCATGGAAAATATTCTGAAAGCAGCCAAAAAGAAATTCGGCGAACGTGGTTATGAAGGCACCAGCATTCAAGAAATTACCAAAGAAGCCAAAGTTAACGTTGCAATGGCCAGCTATTACTTTAATGGCAAAGAGAACCTGTACTACGAGGTGTTCAAAAAATACGGTCTGGCAAATGAACTGCCGAACTTTCTGGAAAAAAACCAGTTTAATCCGATTAATGCCCTGCGTGAATATCTGACCGTTTTTACCACCCACATTAAAGAAAATCCGGAAATTGGCACCCTGGCCTATGAAGAAATTATCAAAGAAAGCGCACGCCTGGAAAAAATCAAACCGTATTTTATCGGCAGCTTCGAACAGCTGAAAGAAATTCTGCAAGAGGGTGAAAAACAGGGTGTGTTTCACTTTTTTAGCATCAACCATACCATCCATTGGATTACCAGCATTGTTCTGTTTCCGAAATTCAAAAAATTCATCGATAGCCTGGGTCCGAATGAAACCAATGATACCAATCATGAATGGATGCCGGAAGATCTGGTTAGCCGTATTATTAGCGCACTGACCGATAAACCGAACATTTAAAACGCATGAGAAAGCCCCCGGAAGATCACCTTCCGGGGGCTTTTTTATTGCGCAGGTACTTTTCATACTCCCGCCATTCAGAGAAGAAACCAATTGTCCATATTGCATCAGACATTGCCGTCACTGCGTCTTTTACTGGCTCTTCTCGCTAACCAAACCGGTAACCCCGCTTATTAAAAGCATTCTGTAACAAAGCGGGACCAAAGCCATGACAAAAACGCGTAACAAAAGTGTCTATAATCACGGCAGAAAAGTCCACATTGATTATTTGCACGGCGTCACACTTTGCTATGCCATAGCATTTTTATCCATAAGATTAGCGGATCCTACCTGACGCTTTTTATCGCAACTCTCTACTGTTTCTCCATACCCGTTTTTTTGGGCTAGCCTGAAGGGTGTCTCAAGGTGCGTACCTTGACTGATGAGTCCGAAAGGACGAAACACCCCTCTACAAATAATTTTGTTTAAAATGTTCCCTAATAATCAGCAAAGAGGTTACTAGATGGCAGGCGCAGTTGGTCGTCCGCGTCGTAGTGCACCGCGTCGTGCAGGTAAAAATCCGCGTGAAGAAATTCTGGATGCAAGCGCAGAACTGTTTACCCGTCAGGGTTTTGCAACCACCAGTACCCATCAGATTGCAGATGCAGTTGGTATTCGTCAGGCAAGCCTGTATTATCATTTTCCGAGCAAAACCGAAATCTTTCTGACCCTGCTGAAAAGCACCGTTGAACCGAGCACCGTTCTGGCAGAAGATCTGAGCACCCTGGATGCAGGTCCGGAAATGCGTCTGTGGGCAATTGTTGCAAGCGAAGTTCGTCTGCTGCTGAGCACCAAATGGAATGTTGGTCGTCTGTATCAGCTGCCGATTGTTGGTAGCGAAGAATTTGCAGAATATCATAGCCAGCGTGAAGCACTGACCAATGTTTTTCGTGATCTGGCAACCGAAATTGTTGGTGATGATCCGCGTGCAGAACTGCCGTTTCATATTACCATGAGCGTTATTGAAATGCGTCGCAATGATGGTAAAATTCCGAGTCCGCTGAGCGCAGATAGCCTGCCGGAAACCGCAATTATGCTGGCAGATGCAAGCCTGGCAGTTCTGGGTGCACCGCTGCCTGCAGATCGTGTTGAAAAAACCCTGGAACTGATTAAACAGGCAGATGCAAAATAACTCGGTACCAAAGACGAACAATAAGACGCTGAAAAGCGTCTTTTTTCGTTTTGGTCCAATGgTCACCATATATCAAGtttacggctagctcagtcctaggtactatgctagctactagagaaagaggagaaatactagatggctgaagcgcaaaatgatcccctgctgccgggatactcgtttaatgcccatctggtggcgggtttaacgccgattgaggccaacggttatctcgatttttttatcgaccgaccgctgggaatgaaaggttatattctcaatctcaccattcgcggtcagggggtggtgaaaaatcagggacgagaatttgtttgccgaccgggtgatattttgctgttcccgccaggagagattcatcactacggtcgtcatccggaggctcgcgaatggtatcaccagtgggtttactttcgtccgcgcgcctactggcatgaatggcttaactggccgtcaatatttgccaatacggggttctttcgcccggatgaagcgcaccagccgcatttcagcgacctgtttgggcaaatcattaacgccgggcaaggggaagggcgctattcggagctgctggcgataaatctgcttgagcaattgttactgcggcgcatggaagcgattaacgagtcgctccatccaccgatggataatcgggtacgcgaggcttgtcagtacatcagcgatcacctggcagacagcaattttgatatcgccagcgtcgcacagcatgtttgcttgtcgccgtcgcgtctgtcacatcttttccgccagcagttagggattagcgtcttaagctggcgcgaggaccaacgtatcagccaggcgaagctgcttttgagcaccacccggatgcctatcgccaccgtcggtcgcaatgttggttttgacgatcaactctatttctcgcgggtatttaaaaaatgcaccggggccagcccgagcgagttccgtgccggttaataaCCAATTATTGAAGGCCGCTAACGCAGCCTTTTTTTGTTTCTGGTCTCCCAATGGCGGCGCGCCATCGAATGGCGCAAAACCTTTCGCGGTATGGCATGATAGCGCCCGGAAGAGAGTCAATTCAGGGTGGTGAATATGAAACCAGTAACGTTATACGATGTCGCAGAGTATGCCGGTGTCTCTTATCAGACCGTTTCCCGCGTGGTGAACCAGGCCAGCCACGTTTCTGCGAAAACGCGGGAAAAAGTGGAAGCGGCGATGGCGGAGCTGAATTACATTCCCAACCGCGTGGCACAACAACTGGCGGGCAAACAGTCGTTGCTGATTGGCGTTGCCACCTCCAGTCTGGCCCTGCACGCGCCGTCGCAAATTGTCGCGGCGATTAAATCTCGCGCCGATCAACTGGGTGCCAGCGTGGTGGTGTCGATGGTAGAACGAAGCGGCGTCGAAGCCTGTAAAGCGGCGGTGCACAATCTTCTCGCGCAACGCGTCAGTGGGCTGATCATTAACTATCCGCTGGATGACCAGGATGCCATTGCTGTGGAAGCTGCCTGCACTAATGTTCCGGCGTTATTTCTTGATGTCTCTGACCAGACACCCATCAACAGTATTATTTTCTCCCATGAGGACGGTACGCGACTGGGCGTGGAGCATCTGGTCGCATTGGGTCACCAGCAAATCGCGCTGTTAGCGGGCCCATTAAGTTCTGTCTCGGCGCGTCTGCGTCTGGCTGGCTGGCATAAATATCTCACTCGCAATCAAATTCAGCCGATAGCGGAACGGGAAGGCGACTGGAGTGCCATGTCCGGTTTTCAACAAACCATGCAAATGCTGAATGAGGGCATCGTTCCCACTGCGATGCTGGTTGCCAACGATCAGATGGCGCTGGGCGCAATGCGCGCCATTACCGAGTCCGGGCTGCGCGTTGGTGCGGATATCTCGGTAGTGGGATACGACGATACCGAAGATAGCTCATGTTATATCCCGCCGTTAACCACCATCAAACAGGATTTTCGCCTGCTGGGGCAAACCAGCGTGGACCGCTTGCTGCAACTCTCTCAGGGCCAGGCGGTGAAGGGCAATCAGCTGTTGCCAGTCTCACTGGTGAAAAGAAAAACCACCCTGGCGCCCAATACGCAAACCGCCTCTCCCCGCGCGTTGGCCGATTCATTAATGCAGCTGGCACGACAGGTTTCCCGACTGGAAAGCGGGCAGTGATAATCCAGGAGGAAAAAAATGtccagattagataaaagtaaagtgattaacagcgcattagagctgcttaatgaggtcggaatcgaaggtttaacaacccgtaaactcgcccagaagctaggtgtagagcagcctacattgtattggcatgtaaaaaataagcgggctttgctcgacgccttagccattgagatgttagataggcaccatactcacttttgccctttagaaggggaaagctggcaagattttttacgtaataacgctaaaagttttagatgtgctttactaagtcatcgcgatggagcaaaagtacatttaggtacacggcctacagaaaaacagtatgaaactctcgaaaatcaattagcctttttatgccaacaaggtttttcactagagaatgcattatatgcactcagcgctgtggggcattttactttaggttgcgtattggaagatcaagagcatcaagtcgctaaagaagaaagggaaacacctactactgatagtatgccgccattattacgacaagctatcgaattatttgatcaccaaggtgcagagccagccttcttattcggccttgaattgatcatatgcggattagaaaaacaacttaaatgtgaaagtgggtcctaataattggtaacgaatcagacaattgacggctcgagggagtagcatagggtttgcagaatccctgcttcgtccatttgacaggcacattatgcatcgatgataagctgtcaaacatgagcagatcctctacgccggacgcatcgtggccggcatcaccggcgccacaggtgcggttgctggcgcctatatcgccgacatcaccgatggggaagatcgggctcgccacttcgggctcatgagcaaatattttatctgaggt\n",
      "<class 'sbol2.location.Range'>\n",
      "http://examples.org/Range/example/1\n"
     ]
    },
    {
     "ename": "SBOLError",
     "evalue": "(<SBOLErrorCode.SBOL_ERROR_URI_NOT_UNIQUE: 17>, 'The object http://examples.org/insertion_sites_annotation/example/1 is already contained by the http://sbols.org/v2#location property')",
     "output_type": "error",
     "traceback": [
      "\u001b[0;31m---------------------------------------------------------------------------\u001b[0m",
      "\u001b[0;31mSBOLError\u001b[0m                                 Traceback (most recent call last)",
      "Cell \u001b[0;32mIn[174], line 12\u001b[0m\n\u001b[1;32m      8\u001b[0m sai_plasmid\u001b[38;5;241m.\u001b[39msequences \u001b[38;5;241m=\u001b[39m [saiSeq] \n\u001b[1;32m     10\u001b[0m \u001b[38;5;28mprint\u001b[39m(saiSeq\u001b[38;5;241m.\u001b[39melements)\n\u001b[0;32m---> 12\u001b[0m rebase_part_in_backbone_from_sbol(\u001b[38;5;124m'\u001b[39m\u001b[38;5;124mnew_part\u001b[39m\u001b[38;5;124m'\u001b[39m, sai_plasmid, [\u001b[38;5;241m6762\u001b[39m, \u001b[38;5;241m7601\u001b[39m], [], \u001b[38;5;241m3\u001b[39m)\n",
      "Cell \u001b[0;32mIn[173], line 33\u001b[0m, in \u001b[0;36mrebase_part_in_backbone_from_sbol\u001b[0;34m(identity, sbol_comp, part_location, part_roles, fusion_site_length, linear, **kwargs)\u001b[0m\n\u001b[1;32m     30\u001b[0m \u001b[38;5;28mprint\u001b[39m(insertion_site_location2)\n\u001b[1;32m     32\u001b[0m insertion_sites_annotation\u001b[38;5;241m.\u001b[39mlocations\u001b[38;5;241m.\u001b[39madd(insertion_site_location1)\n\u001b[0;32m---> 33\u001b[0m insertion_sites_annotation\u001b[38;5;241m.\u001b[39mlocations\u001b[38;5;241m.\u001b[39madd(insertion_site_location2)\n\u001b[1;32m     35\u001b[0m insertion_sites_annotation\u001b[38;5;241m.\u001b[39mroles \u001b[38;5;241m=\u001b[39m [tyto\u001b[38;5;241m.\u001b[39mSO\u001b[38;5;241m.\u001b[39minsertion_site]\n\u001b[1;32m     36\u001b[0m \u001b[38;5;28;01mif\u001b[39;00m linear:\n",
      "File \u001b[0;32m/opt/miniconda3/lib/python3.12/site-packages/sbol2/property.py:628\u001b[0m, in \u001b[0;36mOwnedObject.add\u001b[0;34m(self, sbol_obj)\u001b[0m\n\u001b[1;32m    626\u001b[0m \u001b[38;5;28;01mfor\u001b[39;00m obj \u001b[38;5;129;01min\u001b[39;00m object_store:\n\u001b[1;32m    627\u001b[0m     \u001b[38;5;28;01mif\u001b[39;00m obj\u001b[38;5;241m.\u001b[39midentity \u001b[38;5;241m==\u001b[39m sbol_obj\u001b[38;5;241m.\u001b[39midentity:\n\u001b[0;32m--> 628\u001b[0m         \u001b[38;5;28;01mraise\u001b[39;00m SBOLError(SBOLErrorCode\u001b[38;5;241m.\u001b[39mSBOL_ERROR_URI_NOT_UNIQUE,\n\u001b[1;32m    629\u001b[0m                         \u001b[38;5;124m\"\u001b[39m\u001b[38;5;124mThe object \u001b[39m\u001b[38;5;124m\"\u001b[39m \u001b[38;5;241m+\u001b[39m sbol_obj\u001b[38;5;241m.\u001b[39midentity \u001b[38;5;241m+\u001b[39m\n\u001b[1;32m    630\u001b[0m                         \u001b[38;5;124m\"\u001b[39m\u001b[38;5;124m is already contained by the \u001b[39m\u001b[38;5;124m\"\u001b[39m \u001b[38;5;241m+\u001b[39m\n\u001b[1;32m    631\u001b[0m                         \u001b[38;5;28mself\u001b[39m\u001b[38;5;241m.\u001b[39m_rdf_type \u001b[38;5;241m+\u001b[39m \u001b[38;5;124m\"\u001b[39m\u001b[38;5;124m property\u001b[39m\u001b[38;5;124m\"\u001b[39m)\n\u001b[1;32m    632\u001b[0m \u001b[38;5;66;03m# Add to parent object\u001b[39;00m\n\u001b[1;32m    633\u001b[0m object_store\u001b[38;5;241m.\u001b[39mappend(sbol_obj)\n",
      "\u001b[0;31mSBOLError\u001b[0m: (<SBOLErrorCode.SBOL_ERROR_URI_NOT_UNIQUE: 17>, 'The object http://examples.org/insertion_sites_annotation/example/1 is already contained by the http://sbols.org/v2#location property')"
     ]
    }
   ],
   "source": [
    "# part in backbone test\n",
    "doc = sbol2.Document()\n",
    "sai_plasmid = sbol2.ComponentDefinition('sai_plasmid', sbol2.BIOPAX_DNA)\n",
    "doc.addComponentDefinition(sai_plasmid)\n",
    "\n",
    "saiSeq = sbol2.Sequence('sai_sequence', 'gcttcctcgctcactgactcgctgcacgaggcagacctcagcgctagcggagtgtatactggcttactatgttggcactgatgagggtgtcagtgaagtgcttcatgtggcaggagaaaaaaggctgcaccggtgcgtcagcagaatatgtgatacaggatatattccgcttcctcgctcactgactcgctacgctcggtcgttcgactgcggcgagcggaaatggcttacgaacggggcggagatttcctggaagatgccaggaagatacttaacagggaagtgagagggccgcggcaaagccgtttttccataggctccgcccccctgacaagcatcacgaaatctgacgctcaaatcagtggtggcgaaacccgacaggactataaagataccaggcgtttcccctggcggctccctcgtgcgctctcctgttcctgcctttcggtttaccggtgtcattccgctgttatggccgcgtttgtctcattccacgcctgacactcagttccgggtaggcagttcgctccaagctggactgtatgcacgaaccccccgttcagtccgaccgctgcgccttatccggtaactatcgtcttgagtccaacccggaaagacatgcaaaagcaccactggcagcagccactggtaattgatttagaggagttagtcttgaagtcatgcgccggttaaggctaaactgaaaggacaagttttggtgactgcgctcctccaagccagttacctcggttcaaagagttggtagctcagagaaccttcgaaaaaccgccctgcaaggcggttttttcgttttcagagcaagagattacgcgcagaccaaaacgatctcaagaagatcatcttattaaggggtctgacgctcagtggaacgaaaaatcaatctaaagtatatatgagtaaacttggtctgacagttaccttagaaaaactcatcgagcatcaaatgaaactgcaatttattcatatcaggattatcaataccatatttttgaaaaagccgtttctgtaatgaaggagaaaactcaccgaggcagttccataggatggcaagatcctggtatcggtctgcgattccgactcgtccaacatcaatacaacctattaatttcccctcgtcaaaaataaggttatcaagtgagaaatcaccatgagtgacgactgaatccggtgagaatggcaaaagcttatgcatttctttccagacttgttcaacaggccagccattacgctcgtcatcaaaatcactcgcatcaaccaaaccgttattcattcgtgattgcgcctgagcgagacgaaatacgcgatcgctgttaaaaggacaattacaaacaggaatcgaatgcaaccggcgcaggaacactgccagcgcatcaacaatattttcacctgaatcaggatattcttctaatacctggaatgctgttttcccggggatcgcagtggtgagtaaccatgcatcatcaggagtacggataaaatgcttgatggtcggaagaggcataaattccgtcagccagtttagtctgaccatctcatctgtaacatcattggcaacgctacctttgccatgtttcagaaacaactctggcgcatcgggcttcccatacaatcgatagattgtcgcacctgattgcccgacattatcgcgagcccatttatacccatataaatcagcatccatgttggaatttaatcgcggcctcgagcaagacgtttcccgttgaatatggctcataacaccccttgtattactgtttatgtaagcagacagttttattgttcatgatgatatatttttatcttgtgcaatgtacatcagagattttgagacacaaCCAATTATTGAAGGCCTCCCTAACGGGGGGCCTTTTTTTGTTTCTGGTCTCCCGCTTTCTATGATTGGTCCAGATTCGTTACCAATTGACAGCTAGCTCAGTCCTAGGTATATACATACATGCTTGTTTGTTTGTAAACAGCGCGGGTGAGAGGGATTCGTTACCAATTGACAATTGATTGGACGTTCAATATAATGCTAGCCTGAAGCGGTCAACGCATGTGCTTTGCGTTCTGATGAGACAGTGATGTCGAAACCGCCTCTACAAATAATTTTGTTTAACTTTACGAGGGCGATCCTATGGCACGTACCCCGAGCCGTAGCAGCATTGGTAGCCTGCGTAGTCCGCATACCCATAAAGCAATTCTGACCAGCACCATTGAAATCCTGAAAGAATGTGGTTATAGCGGTCTGAGCATTGAAAGCGTTGCACGTCGTGCCGGTGCAAGCAAACCGACCATTTATCGTTGGTGGACCAATAAAGCAGCACTGATTGCCGAAGTGTATGAAAATGAAAGCGAACAGGTGCGTAAATTTCCGGATCTGGGTAGCTTTAAAGCCGATCTGGATTTTCTGCTGCGTAATCTGTGGAAAGTTTGGCGTGAAACCATTTGTGGTGAAGCATTTCGTTGTGTTATTGCAGAAGCACAGCTGGACCCTGCAACCCTGACCCAGCTGAAAGATCAGTTTATGGAACGTCGTCGTGAGATGCCGAAAAAACTGGTTGAAAATGCCATTAGCAATGGTGAACTGCCGAAAGATACCAATCGTGAACTGCTGCTGGATATGATTTTTGGTTTTTGTTGGTATCGCCTGCTGACCGAACAGCTGACCGTTGAACAGGATATTGAAGAATTTACCTTCCTGCTGATTAATGGTGTTTGTCCGGGTACACAGCGTTAAGGAAACACAGAAAAAAGCCCGCACCTGACAGTGCGGGCTTTTTTTTTCGACCAAAGGTGTCAACGATCGTTGGCTGTGTTGACAATTAATCATCGGCTCGTATAATGTGTGGAATTGTGAGCGCTCACAATTTACTCCACCGTTGGCTTTTTTCCCTATCAGTGATAGAGATTGACATCCCTATCAGTGATAGAGATAATGAGCACCTGAAGCGCTCAACGGGTGTGCTTCCCGTTCTGATGAGTCCGTGAGGACGAAAGCGCCTCTACAAATAATTTTGTTTAAGAGTCTATGGACTATGTTTTCACAAAGGAAGTACCAGGATGGCACGTAAAACCGCAGCAGAAGCAGAAGAAACCCGTCAGCGTATTATTGATGCAGCACTGGAAGTTTTTGTTGCACAGGGTGTTAGTGATGCAACCCTGGATCAGATTGCACGTAAAGCCGGTGTTACCCGTGGTGCAGTTTATTGGCATTTTAATGGTAAACTGGAAGTTCTGCAGGCAGTTCTGGCAAGCCGTCAGCATCCGCTGGAACTGGATTTTACACCGGATCTGGGTATTGAACGTAGCTGGGAAGCAGTTGTTGTTGCAATGCTGGATGCAGTTCATAGTCCGCAGAGCAAACAGTTTAGCGAAATTCTGATTTATCAGGGTCTGGATGAAAGCGGTCTGATTCATAATCGTATGGTTCAGGCAAGCGATCGTTTTCTGCAGTATATTCATCAGGTTCTGCGTCATGCAGTTACCCAGGGTGAACTGCCGATTAATCTGGATCTGCAGACCAGCATTGGTGTTTTTAAAGGTCTGATTACCGGTCTGCTGTATGAAGGTCTGCGTAGCAAAGATCAGCAGGCACAGATTATCAAAGTTGCACTGGGTAGCTTTTGGGCACTGCTGCGTGAACCGCCTCGTTTTCTGCTGTGTGAAGAAGCACAGATTAAACAGGTGAAATCCTTCGAATAATTCAGCCAAAAAACTTAAGACCGCCGGTCTTGTCCACTACCTTGCAGTAATGCGGTGGACAGGATCGGCGGTTTTCTTTTCTCTTCTCAAGGGCACCAGGAATCTGAACGATTCGTTACCAATTGACATATTTAAAATTCTTGTTTAAAATGCTAGCTCGTCACTAGAGGGCGATAGTGACAAACTTGACAACTCATCACTTCCTAGGTATAATGCTAGCCTGAAGAAGTCAATTAATGTGCTTTTAATTCTGATGAGTCGGTGACGACGAAACTTCCTCTACAAATAATTTTGTTTAACCCCCCGAGGAGTAGCACATGCCGAAACTGGGTATGCAGAGCATTCGTCGTCGTCAGCTGATTGATGCAACCCTGGAAGCAATTAATGAAGTTGGTATGCATGATGCAACCATTGCACAGATTGCACGTCGTGCCGGTGTTAGCACCGGTATTATTAGCCATTATTTCCGCGATAAAAACGGTCTGCTGGAAGCAACCATGCGTGATATTACCAGCCAGCTGCGTGATGCAGTTCTGAATCGTCTGCATGCACTGCCGCAGGGTAGCGCAGAACAGCGTCTGCAGGCAATTGTTGGTGGTAATTTTGATGAAACCCAGGTTAGCAGCGCAGCAATGAAAGCATGGCTGGCATTTTGGGCAAGCAGCATGCATCAGCCGATGCTGTATCGTCTGCAGCAGGTTAGCAGTCGTCGTCTGCTGAGCAATCTGGTTAGCGAATTTCGTCGTGAACTGCCTCGTGAACAGGCACAAGAGGCAGGTTATGGTCTGGCAGCACTGATTGATGGTCTGTGGCTGCGTGCAGCACTGAGCGGTAAACCGCTGGATAAAACCCGTGCAAATAGCCTGACCCGTCATTTTATCACCCAGCATCTGCCGACCGATTAACCAATTATTGAACACCCTTCGGGGTGTTTTTTTGTTTCTGGTCTACCGTAATACTCCACCGTTGGCTTTTTTCCCTATCAGTGATAGAGATTGACATCCCTATCAGTGATAGAGATAATGAGCACCTGAAGGGGTCAGTTGATGTGCTTTCAACTCTGATGAGTCAGTGATGACGAAACCCCCTCTACAAATAATTTTGTTTAACTATGGACTATGTTTTCACATACGAGGGGGATTAGATGAACAAAACCATTGATCAGGTGCGTAAAGGTGATCGTAAAAGCGATCTGCCGGTTCGTCGTCGTCCGCGTCGTAGTGCCGAAGAAACCCGTCGTGATATTCTGGCAAAAGCCGAAGAACTGTTTCGTGAACGTGGTTTTAATGCAGTTGCCATTGCAGATATTGCAAGCGCACTGAATATGAGTCCGGCAAATGTGTTTAAACATTTTAGCAGCAAAAACGCACTGGTTGATGCAATTGGTTTTGGTCAGATTGGTGTTTTTGAACGTCAGATTTGTCCGCTGGATAAAAGCCATGCACCGCTGGATCGTCTGCGTCATCTGGCACGTAATCTGATGGAACAGCATCATCAGGATCATTTCAAACACATACGGGTTTTTATTCAGATCCTGATGACCGCCAAACAGGATATGAAATGTGGCGATTATTACAAAAGCGTGATTGCAAAACTGCTGGCCGAAATTATTCGTGATGGTGTTGAAGCAGGTCTGTATATTGCAACCGATATTCCGGTTCTGGCAGAAACCGTTCTGCATGCACTGACCAGCGTTATTCATCCGGTTCTGATTGCACAAGAAGATATTGGTAATCTGGCAACCCGTTGTGATCAGCTGGTTGATCTGATTGATGCAGGTCTGCGTAATCCGCTGGCAAAATAACCAATTATTGAACACCCTAACGGGTGTTTTTTTTTTTTTGGTCTACCCGCTAACGATCGTTGGCTGTGTTGACAATTAATCATCGGCTCGTATAATGTGTGGAATTGTGAGCGCTCACAATTCTGAAGTAGTCACCGGCTGTGCTTGCCGGTCTGATGAGCCTGTGAAGGCGAAACTACCTCTACAAATAATTTTGTTTAAACCCCCGAGATGAAATACATCCTGTTTGAGGTGTGCGAAATGGGTAAAAGCCGTGAACAGACCATGGAAAATATTCTGAAAGCAGCCAAAAAGAAATTCGGCGAACGTGGTTATGAAGGCACCAGCATTCAAGAAATTACCAAAGAAGCCAAAGTTAACGTTGCAATGGCCAGCTATTACTTTAATGGCAAAGAGAACCTGTACTACGAGGTGTTCAAAAAATACGGTCTGGCAAATGAACTGCCGAACTTTCTGGAAAAAAACCAGTTTAATCCGATTAATGCCCTGCGTGAATATCTGACCGTTTTTACCACCCACATTAAAGAAAATCCGGAAATTGGCACCCTGGCCTATGAAGAAATTATCAAAGAAAGCGCACGCCTGGAAAAAATCAAACCGTATTTTATCGGCAGCTTCGAACAGCTGAAAGAAATTCTGCAAGAGGGTGAAAAACAGGGTGTGTTTCACTTTTTTAGCATCAACCATACCATCCATTGGATTACCAGCATTGTTCTGTTTCCGAAATTCAAAAAATTCATCGATAGCCTGGGTCCGAATGAAACCAATGATACCAATCATGAATGGATGCCGGAAGATCTGGTTAGCCGTATTATTAGCGCACTGACCGATAAACCGAACATTTAAAACGCATGAGAAAGCCCCCGGAAGATCACCTTCCGGGGGCTTTTTTATTGCGCAGGTACTTTTCATACTCCCGCCATTCAGAGAAGAAACCAATTGTCCATATTGCATCAGACATTGCCGTCACTGCGTCTTTTACTGGCTCTTCTCGCTAACCAAACCGGTAACCCCGCTTATTAAAAGCATTCTGTAACAAAGCGGGACCAAAGCCATGACAAAAACGCGTAACAAAAGTGTCTATAATCACGGCAGAAAAGTCCACATTGATTATTTGCACGGCGTCACACTTTGCTATGCCATAGCATTTTTATCCATAAGATTAGCGGATCCTACCTGACGCTTTTTATCGCAACTCTCTACTGTTTCTCCATACCCGTTTTTTTGGGCTAGCCTGAAGGGTGTCTCAAGGTGCGTACCTTGACTGATGAGTCCGAAAGGACGAAACACCCCTCTACAAATAATTTTGTTTAAAATGTTCCCTAATAATCAGCAAAGAGGTTACTAGATGGCAGGCGCAGTTGGTCGTCCGCGTCGTAGTGCACCGCGTCGTGCAGGTAAAAATCCGCGTGAAGAAATTCTGGATGCAAGCGCAGAACTGTTTACCCGTCAGGGTTTTGCAACCACCAGTACCCATCAGATTGCAGATGCAGTTGGTATTCGTCAGGCAAGCCTGTATTATCATTTTCCGAGCAAAACCGAAATCTTTCTGACCCTGCTGAAAAGCACCGTTGAACCGAGCACCGTTCTGGCAGAAGATCTGAGCACCCTGGATGCAGGTCCGGAAATGCGTCTGTGGGCAATTGTTGCAAGCGAAGTTCGTCTGCTGCTGAGCACCAAATGGAATGTTGGTCGTCTGTATCAGCTGCCGATTGTTGGTAGCGAAGAATTTGCAGAATATCATAGCCAGCGTGAAGCACTGACCAATGTTTTTCGTGATCTGGCAACCGAAATTGTTGGTGATGATCCGCGTGCAGAACTGCCGTTTCATATTACCATGAGCGTTATTGAAATGCGTCGCAATGATGGTAAAATTCCGAGTCCGCTGAGCGCAGATAGCCTGCCGGAAACCGCAATTATGCTGGCAGATGCAAGCCTGGCAGTTCTGGGTGCACCGCTGCCTGCAGATCGTGTTGAAAAAACCCTGGAACTGATTAAACAGGCAGATGCAAAATAACTCGGTACCAAAGACGAACAATAAGACGCTGAAAAGCGTCTTTTTTCGTTTTGGTCCAATGgTCACCATATATCAAGtttacggctagctcagtcctaggtactatgctagctactagagaaagaggagaaatactagatggctgaagcgcaaaatgatcccctgctgccgggatactcgtttaatgcccatctggtggcgggtttaacgccgattgaggccaacggttatctcgatttttttatcgaccgaccgctgggaatgaaaggttatattctcaatctcaccattcgcggtcagggggtggtgaaaaatcagggacgagaatttgtttgccgaccgggtgatattttgctgttcccgccaggagagattcatcactacggtcgtcatccggaggctcgcgaatggtatcaccagtgggtttactttcgtccgcgcgcctactggcatgaatggcttaactggccgtcaatatttgccaatacggggttctttcgcccggatgaagcgcaccagccgcatttcagcgacctgtttgggcaaatcattaacgccgggcaaggggaagggcgctattcggagctgctggcgataaatctgcttgagcaattgttactgcggcgcatggaagcgattaacgagtcgctccatccaccgatggataatcgggtacgcgaggcttgtcagtacatcagcgatcacctggcagacagcaattttgatatcgccagcgtcgcacagcatgtttgcttgtcgccgtcgcgtctgtcacatcttttccgccagcagttagggattagcgtcttaagctggcgcgaggaccaacgtatcagccaggcgaagctgcttttgagcaccacccggatgcctatcgccaccgtcggtcgcaatgttggttttgacgatcaactctatttctcgcgggtatttaaaaaatgcaccggggccagcccgagcgagttccgtgccggttaataaCCAATTATTGAAGGCCGCTAACGCAGCCTTTTTTTGTTTCTGGTCTCCCAATGGCGGCGCGCCATCGAATGGCGCAAAACCTTTCGCGGTATGGCATGATAGCGCCCGGAAGAGAGTCAATTCAGGGTGGTGAATATGAAACCAGTAACGTTATACGATGTCGCAGAGTATGCCGGTGTCTCTTATCAGACCGTTTCCCGCGTGGTGAACCAGGCCAGCCACGTTTCTGCGAAAACGCGGGAAAAAGTGGAAGCGGCGATGGCGGAGCTGAATTACATTCCCAACCGCGTGGCACAACAACTGGCGGGCAAACAGTCGTTGCTGATTGGCGTTGCCACCTCCAGTCTGGCCCTGCACGCGCCGTCGCAAATTGTCGCGGCGATTAAATCTCGCGCCGATCAACTGGGTGCCAGCGTGGTGGTGTCGATGGTAGAACGAAGCGGCGTCGAAGCCTGTAAAGCGGCGGTGCACAATCTTCTCGCGCAACGCGTCAGTGGGCTGATCATTAACTATCCGCTGGATGACCAGGATGCCATTGCTGTGGAAGCTGCCTGCACTAATGTTCCGGCGTTATTTCTTGATGTCTCTGACCAGACACCCATCAACAGTATTATTTTCTCCCATGAGGACGGTACGCGACTGGGCGTGGAGCATCTGGTCGCATTGGGTCACCAGCAAATCGCGCTGTTAGCGGGCCCATTAAGTTCTGTCTCGGCGCGTCTGCGTCTGGCTGGCTGGCATAAATATCTCACTCGCAATCAAATTCAGCCGATAGCGGAACGGGAAGGCGACTGGAGTGCCATGTCCGGTTTTCAACAAACCATGCAAATGCTGAATGAGGGCATCGTTCCCACTGCGATGCTGGTTGCCAACGATCAGATGGCGCTGGGCGCAATGCGCGCCATTACCGAGTCCGGGCTGCGCGTTGGTGCGGATATCTCGGTAGTGGGATACGACGATACCGAAGATAGCTCATGTTATATCCCGCCGTTAACCACCATCAAACAGGATTTTCGCCTGCTGGGGCAAACCAGCGTGGACCGCTTGCTGCAACTCTCTCAGGGCCAGGCGGTGAAGGGCAATCAGCTGTTGCCAGTCTCACTGGTGAAAAGAAAAACCACCCTGGCGCCCAATACGCAAACCGCCTCTCCCCGCGCGTTGGCCGATTCATTAATGCAGCTGGCACGACAGGTTTCCCGACTGGAAAGCGGGCAGTGATAATCCAGGAGGAAAAAAATGtccagattagataaaagtaaagtgattaacagcgcattagagctgcttaatgaggtcggaatcgaaggtttaacaacccgtaaactcgcccagaagctaggtgtagagcagcctacattgtattggcatgtaaaaaataagcgggctttgctcgacgccttagccattgagatgttagataggcaccatactcacttttgccctttagaaggggaaagctggcaagattttttacgtaataacgctaaaagttttagatgtgctttactaagtcatcgcgatggagcaaaagtacatttaggtacacggcctacagaaaaacagtatgaaactctcgaaaatcaattagcctttttatgccaacaaggtttttcactagagaatgcattatatgcactcagcgctgtggggcattttactttaggttgcgtattggaagatcaagagcatcaagtcgctaaagaagaaagggaaacacctactactgatagtatgccgccattattacgacaagctatcgaattatttgatcaccaaggtgcagagccagccttcttattcggccttgaattgatcatatgcggattagaaaaacaacttaaatgtgaaagtgggtcctaataattggtaacgaatcagacaattgacggctcgagggagtagcatagggtttgcagaatccctgcttcgtccatttgacaggcacattatgcatcgatgataagctgtcaaacatgagcagatcctctacgccggacgcatcgtggccggcatcaccggcgccacaggtgcggttgctggcgcctatatcgccgacatcaccgatggggaagatcgggctcgccacttcgggctcatgagcaaatattttatctgaggt', sbol2.SBOL_ENCODING_IUPAC)\n",
    "doc.addSequence(saiSeq)\n",
    "sai_plasmid.sequences = [saiSeq] \n",
    "\n",
    "print(saiSeq.elements)\n",
    "\n",
    "rebase_part_in_backbone_from_sbol('new_part', sai_plasmid, [6762, 7601], [], 3)"
   ]
  },
  {
   "cell_type": "code",
   "execution_count": null,
   "metadata": {},
   "outputs": [],
   "source": [
    "# Initialize SBOL2 Document\n",
    "sbol2.Config.setOption('sbol_typed_uris', True)\n",
    "doc = sbol2.Document()\n",
    "\n",
    "# Create a ComponentDefinition with a DNA sequence\n",
    "component_def = sbol2.ComponentDefinition('example_component', sbol2.BIOPAX_DNA)\n",
    "doc.addComponentDefinition(component_def)\n",
    "\n",
    "# Add a sequence to the ComponentDefinition\n",
    "sequence = sbol2.Sequence('example_sequence', 'ATGCTGACTGCTAGCTGACTAGC', sbol2.SBOL_ENCODING_IUPAC)\n",
    "doc.addSequence(sequence)\n",
    "component_def.sequences = [sequence.identity]  # Associate the sequence with the ComponentDefinition\n",
    "\n",
    "# Create a SequenceAnnotation\n",
    "seq_annotation = sbol2.SequenceAnnotation('example_annotation')\n",
    "range_location = sbol2.Range('new range', 1, 6)  # Create a Range object\n",
    "seq_annotation.locations.add(range_location)  # Add it to the annotation\n",
    "component_def.sequenceAnnotations.add(seq_annotation)\n",
    "\n",
    "# Optionally add a role (e.g., promoter, CDS) to describe the feature\n",
    "seq_annotation.roles = ['http://identifiers.org/so/SO:0000167']  # Promoter role from Sequence Ontology\n",
    "\n",
    "# Save the SBOL2 document\n",
    "doc.write('sequence_annotation_example.xml')\n",
    "\n",
    "print('SequenceAnnotation created successfully!')\n"
   ]
  },
  {
   "cell_type": "code",
   "execution_count": null,
   "metadata": {},
   "outputs": [],
   "source": [
    "component_def = sbol2.ComponentDefinition('example_component', sbol2.BIOPAX_DNA)\n",
    "sequence = sbol2.Sequence('example_sequence', 'ATGCTGACTGCTAGCTGACTAGC', sbol2.SBOL_ENCODING_IUPAC)\n",
    "component_def.sequences = [sequence.identity]  # Associate the sequence with the ComponentDefinition\n",
    "\n",
    "\n",
    "anno_1 = sbol2.SequenceAnnotation('new_anno')\n",
    "anno_2 = sbol2.SequenceAnnotation('new_anno_2')\n",
    "\n",
    "range_location = sbol2.Range('new range', 1, 6)  # Create a Range object\n",
    "anno_1.locations.add(range_location)  # Add it to the annotation)\n",
    "\n",
    "component_def.sequenceAnnotations.add(anno_1)\n",
    "component_def.sequenceAnnotations.add(anno_2)\n",
    "\n",
    "print(sbol2.SBOL_RESTRICTION_PRECEDES)\n",
    "\n",
    "# new_constraint = sbol2.SequenceConstraint(restriction=SBOL_RESTRICTION_PRECEDES, subject=anno_1, object=anno_2) #????\n",
    "backbone_dropout_meets = sbol2.sequenceconstraint.SequenceConstraint (\n",
    "    'backbone_dropout',\n",
    "    'backbone_dropout_uri',\n",
    "    anno_1,\n",
    "    anno_2,\n",
    "    sbol2.SBOL_RESTRICTION_PRECEDES\n",
    ")\n",
    "\n",
    "component_def.sequenceConstraints.add(backbone_dropout_meets)\n",
    "\n",
    "sbol2.DNA"
   ]
  },
  {
   "cell_type": "code",
   "execution_count": 13,
   "metadata": {},
   "outputs": [
    {
     "ename": "NameError",
     "evalue": "name 'sbol3' is not defined",
     "output_type": "error",
     "traceback": [
      "\u001b[0;31m---------------------------------------------------------------------------\u001b[0m",
      "\u001b[0;31mNameError\u001b[0m                                 Traceback (most recent call last)",
      "Cell \u001b[0;32mIn[13], line 1\u001b[0m\n\u001b[0;32m----> 1\u001b[0m \u001b[38;5;28;01mclass\u001b[39;00m \u001b[38;5;21;01mAssembly_plan_composite_in_backbone_single_enzyme\u001b[39;00m():\n\u001b[1;32m      2\u001b[0m \u001b[38;5;250m    \u001b[39m\u001b[38;5;124;03m\"\"\"Creates a Assembly Plan.\u001b[39;00m\n\u001b[1;32m      3\u001b[0m \u001b[38;5;124;03m    :param name: Name of the assembly plan Component.\u001b[39;00m\n\u001b[1;32m      4\u001b[0m \u001b[38;5;124;03m    :param parts_in_backbone: Parts in backbone to be assembled. \u001b[39;00m\n\u001b[0;32m   (...)\u001b[0m\n\u001b[1;32m     10\u001b[0m \u001b[38;5;124;03m    :param **kwargs: Keyword arguments of any other Component attribute for the assembled part.\u001b[39;00m\n\u001b[1;32m     11\u001b[0m \u001b[38;5;124;03m    \"\"\"\u001b[39;00m\n\u001b[1;32m     13\u001b[0m     \u001b[38;5;28;01mdef\u001b[39;00m \u001b[38;5;21m__init__\u001b[39m(\u001b[38;5;28mself\u001b[39m, name: \u001b[38;5;28mstr\u001b[39m, parts_in_backbone: List[sbol3\u001b[38;5;241m.\u001b[39mComponent], acceptor_backbone: sbol3\u001b[38;5;241m.\u001b[39mComponent, restriction_enzyme: Union[\u001b[38;5;28mstr\u001b[39m,sbol3\u001b[38;5;241m.\u001b[39mExternallyDefined], document:sbol3\u001b[38;5;241m.\u001b[39mDocument):\n",
      "Cell \u001b[0;32mIn[13], line 13\u001b[0m, in \u001b[0;36mAssembly_plan_composite_in_backbone_single_enzyme\u001b[0;34m()\u001b[0m\n\u001b[1;32m      1\u001b[0m \u001b[38;5;28;01mclass\u001b[39;00m \u001b[38;5;21;01mAssembly_plan_composite_in_backbone_single_enzyme\u001b[39;00m():\n\u001b[1;32m      2\u001b[0m \u001b[38;5;250m    \u001b[39m\u001b[38;5;124;03m\"\"\"Creates a Assembly Plan.\u001b[39;00m\n\u001b[1;32m      3\u001b[0m \u001b[38;5;124;03m    :param name: Name of the assembly plan Component.\u001b[39;00m\n\u001b[1;32m      4\u001b[0m \u001b[38;5;124;03m    :param parts_in_backbone: Parts in backbone to be assembled. \u001b[39;00m\n\u001b[0;32m   (...)\u001b[0m\n\u001b[1;32m     10\u001b[0m \u001b[38;5;124;03m    :param **kwargs: Keyword arguments of any other Component attribute for the assembled part.\u001b[39;00m\n\u001b[1;32m     11\u001b[0m \u001b[38;5;124;03m    \"\"\"\u001b[39;00m\n\u001b[0;32m---> 13\u001b[0m     \u001b[38;5;28;01mdef\u001b[39;00m \u001b[38;5;21m__init__\u001b[39m(\u001b[38;5;28mself\u001b[39m, name: \u001b[38;5;28mstr\u001b[39m, parts_in_backbone: List[sbol3\u001b[38;5;241m.\u001b[39mComponent], acceptor_backbone: sbol3\u001b[38;5;241m.\u001b[39mComponent, restriction_enzyme: Union[\u001b[38;5;28mstr\u001b[39m,sbol3\u001b[38;5;241m.\u001b[39mExternallyDefined], document:sbol3\u001b[38;5;241m.\u001b[39mDocument):\n\u001b[1;32m     14\u001b[0m         \u001b[38;5;28mself\u001b[39m\u001b[38;5;241m.\u001b[39mname \u001b[38;5;241m=\u001b[39m name\n\u001b[1;32m     15\u001b[0m         \u001b[38;5;28mself\u001b[39m\u001b[38;5;241m.\u001b[39mparts_in_backbone \u001b[38;5;241m=\u001b[39m parts_in_backbone\n",
      "\u001b[0;31mNameError\u001b[0m: name 'sbol3' is not defined"
     ]
    }
   ],
   "source": [
    "#target func\n",
    "class Assembly_plan_composite_in_backbone_single_enzyme():\n",
    "    \"\"\"Creates a Assembly Plan.\n",
    "    :param name: Name of the assembly plan Component.\n",
    "    :param parts_in_backbone: Parts in backbone to be assembled. \n",
    "    :param acceptor_backbone:  Backbone in which parts are inserted on the assembly. \n",
    "    :param restriction_enzymes: Restriction enzyme with correct name from Bio.Restriction as Externally Defined.\n",
    "    :param document: SBOL Document where the assembly plan will be created.\n",
    "    :param linear: Boolean to inform if the reactant is linear.\n",
    "    :param circular: Boolean to inform if the reactant is circular.\n",
    "    :param **kwargs: Keyword arguments of any other Component attribute for the assembled part.\n",
    "    \"\"\"\n",
    "\n",
    "    def __init__(self, name: str, parts_in_backbone: List[sbol3.Component], acceptor_backbone: sbol3.Component, restriction_enzyme: Union[str,sbol3.ExternallyDefined], document:sbol3.Document):\n",
    "        self.name = name\n",
    "        self.parts_in_backbone = parts_in_backbone\n",
    "        self.acceptor_backbone = acceptor_backbone\n",
    "        self.restriction_enzyme = restriction_enzyme\n",
    "        self.products = []\n",
    "        self.extracted_parts = []\n",
    "        self.document = document\n",
    "\n",
    "        #create assembly plan\n",
    "        self.assembly_plan_component = sbol3.Component(identity=f'{self.name}_assembly_plan', types=sbol3.SBO_FUNCTIONAL_ENTITY)\n",
    "        self.document.add(self.assembly_plan_component)\n",
    "        self.composites = []\n",
    "\n",
    "    def run(self):\n",
    "        self.assembly_plan_component.features.append(self.restriction_enzyme)\n",
    "        #extract parts\n",
    "        part_number = 1\n",
    "        for part_in_backbone in self.parts_in_backbone:\n",
    "            part_comp, part_seq = digestion(reactant=part_in_backbone,restriction_enzymes=[self.restriction_enzyme], assembly_plan=self.assembly_plan_component, name=f'part_{part_number}_{part_in_backbone.display_id}')\n",
    "            self.document.add([part_comp, part_seq])\n",
    "            self.extracted_parts.append(part_comp)\n",
    "            part_number += 1\n",
    "        #extract backbone (should be the same?)\n",
    "        backbone_comp, backbone_seq = digestion(reactant=self.acceptor_backbone,restriction_enzymes=[self.restriction_enzyme], assembly_plan=self.assembly_plan_component,  name=f'part_{part_number}')\n",
    "        self.document.add([backbone_comp, backbone_seq])\n",
    "        self.extracted_parts.append(backbone_comp)\n",
    "        \n",
    "        #create composite part from extracted parts\n",
    "        composites_list = ligation(reactants=self.extracted_parts, assembly_plan=self.assembly_plan_component)\n",
    "        for composite in composites_list:\n",
    "            composite[0].generated_by.append(self.assembly_plan_component) #\n",
    "            self.composites.append(composite)\n",
    "            self.products.append(composite)\n",
    "            self.document.add(composite)"
   ]
  },
  {
   "cell_type": "markdown",
   "metadata": {},
   "source": [
    "# Digestion"
   ]
  },
  {
   "cell_type": "markdown",
   "metadata": {},
   "source": [
    "## Target function in SBOL3"
   ]
  },
  {
   "cell_type": "code",
   "execution_count": 330,
   "metadata": {},
   "outputs": [
    {
     "ename": "NameError",
     "evalue": "name 'sbol3' is not defined",
     "output_type": "error",
     "traceback": [
      "\u001b[0;31m---------------------------------------------------------------------------\u001b[0m",
      "\u001b[0;31mNameError\u001b[0m                                 Traceback (most recent call last)",
      "Cell \u001b[0;32mIn[330], line 1\u001b[0m\n\u001b[0;32m----> 1\u001b[0m \u001b[38;5;28;01mdef\u001b[39;00m \u001b[38;5;21mdigestion\u001b[39m(reactant:sbol3\u001b[38;5;241m.\u001b[39mComponent, restriction_enzymes:List[sbol3\u001b[38;5;241m.\u001b[39mExternallyDefined], assembly_plan:sbol3\u001b[38;5;241m.\u001b[39mComponent, \u001b[38;5;241m*\u001b[39m\u001b[38;5;241m*\u001b[39mkwargs)\u001b[38;5;241m-\u001b[39m\u001b[38;5;241m>\u001b[39m Tuple[sbol3\u001b[38;5;241m.\u001b[39mComponent, sbol3\u001b[38;5;241m.\u001b[39mSequence]:\n\u001b[1;32m      2\u001b[0m \u001b[38;5;250m    \u001b[39m\u001b[38;5;124;03m\"\"\"Digests a Component using the provided restriction enzymes and creates a product Component and a digestion Interaction.\u001b[39;00m\n\u001b[1;32m      3\u001b[0m \u001b[38;5;124;03m    The product Component is assumed to be the insert for parts in backbone and the backbone for backbones.\u001b[39;00m\n\u001b[1;32m      4\u001b[0m \n\u001b[0;32m   (...)\u001b[0m\n\u001b[1;32m      7\u001b[0m \u001b[38;5;124;03m    :return: A tuple of Component and Interaction.\u001b[39;00m\n\u001b[1;32m      8\u001b[0m \u001b[38;5;124;03m    \"\"\"\u001b[39;00m\n\u001b[1;32m      9\u001b[0m     \u001b[38;5;28;01mif\u001b[39;00m sbol3\u001b[38;5;241m.\u001b[39mSBO_DNA \u001b[38;5;129;01mnot\u001b[39;00m \u001b[38;5;129;01min\u001b[39;00m reactant\u001b[38;5;241m.\u001b[39mtypes:\n",
      "\u001b[0;31mNameError\u001b[0m: name 'sbol3' is not defined"
     ]
    }
   ],
   "source": [
    "def digestion(reactant:sbol3.Component, restriction_enzymes:List[sbol3.ExternallyDefined], assembly_plan:sbol3.Component, **kwargs)-> Tuple[sbol3.Component, sbol3.Sequence]:\n",
    "    \"\"\"Digests a Component using the provided restriction enzymes and creates a product Component and a digestion Interaction.\n",
    "    The product Component is assumed to be the insert for parts in backbone and the backbone for backbones.\n",
    "\n",
    "    :param reactant: DNA to be digested as SBOL Component, usually a part_in_backbone. \n",
    "    :param restriction_enzymes: Restriction enzymes used  Externally Defined.\n",
    "    :return: A tuple of Component and Interaction.\n",
    "    \"\"\"\n",
    "    if sbol3.SBO_DNA not in reactant.types:\n",
    "        raise TypeError(f'The reactant should has a DNA type. Types founded {reactant.types}.')\n",
    "    if len(reactant.sequences)!=1:\n",
    "        raise ValueError(f'The reactant needs to have precisely one sequence. The input reactant has {len(reactant.sequences)} sequences')\n",
    "    participations=[]\n",
    "    restriction_enzymes_pydna=[] \n",
    "    for re in restriction_enzymes:\n",
    "        enzyme = Restriction.__dict__[re.name]\n",
    "        restriction_enzymes_pydna.append(enzyme)\n",
    "        modifier_participation = sbol3.Participation(roles=[sbol3.SBO_MODIFIER], participant=re)\n",
    "        participations.append(modifier_participation)\n",
    "\n",
    "    # Inform topology to PyDNA, if not found assuming linear. \n",
    "    if is_circular(reactant):\n",
    "        circular=True\n",
    "        linear=False\n",
    "    else: \n",
    "        circular=False\n",
    "        linear=True\n",
    "        \n",
    "    reactant_seq = reactant.sequences[0].lookup().elements\n",
    "    # Dseqrecord is from PyDNA package with reactant sequence\n",
    "    ds_reactant = Dseqrecord(reactant_seq, linear=linear, circular=circular)\n",
    "    digested_reactant = ds_reactant.cut(restriction_enzymes_pydna)\n",
    "\n",
    "    if len(digested_reactant)<2 or len(digested_reactant)>3:\n",
    "        raise NotImplementedError(f'Not supported number of products. Found{len(digested_reactant)}')\n",
    "    #TODO select them based on content rather than size.\n",
    "    elif circular and len(digested_reactant)==2:\n",
    "        part_extract, backbone = sorted(digested_reactant, key=len)\n",
    "    elif linear and len(digested_reactant)==3:\n",
    "        prefix, part_extract, suffix = digested_reactant\n",
    "    else: raise NotImplementedError('The reactant has no valid topology type')\n",
    "    \n",
    "    # Extracting roles from features\n",
    "    reactant_features_roles = []\n",
    "    for f in reactant.features:\n",
    "        for r in f.roles:\n",
    "             reactant_features_roles.append(r)\n",
    "    # if part\n",
    "    if any(n==tyto.SO.engineered_insert for n in reactant_features_roles):\n",
    "        # Compute the length of single strand sticky ends or fusion sites\n",
    "        product_5_prime_ss_strand, product_5_prime_ss_end = part_extract.seq.five_prime_end()\n",
    "        product_3_prime_ss_strand, product_3_prime_ss_end = part_extract.seq.three_prime_end()\n",
    "    \n",
    "        product_sequence = str(part_extract.seq)\n",
    "        prod_component_definition, prod_seq = dna_component_with_sequence(identity=f'{reactant.name}_part_extract', sequence=product_sequence, **kwargs) #str(product_sequence))\n",
    "        # add sticky ends features\n",
    "        five_prime_fusion_site_location = sbol3.Range(sequence=product_sequence, start=1, end=len(product_5_prime_ss_end), order=1)\n",
    "        three_prime_fusion_site_location = sbol3.Range(sequence=product_sequence, start=len(product_sequence)-len(product_3_prime_ss_end)+1, end=len(product_sequence), order=3)\n",
    "        fusion_sites_feature = sbol3.SequenceFeature(locations=[five_prime_fusion_site_location, three_prime_fusion_site_location], roles=[tyto.SO.insertion_site])\n",
    "        prod_component_definition.roles.append(tyto.SO.engineered_insert) \n",
    "        prod_component_definition.features.append(fusion_sites_feature)\n",
    "\n",
    "    # if backbone\n",
    "    elif any(n==tyto.SO.deletion for n in reactant_features_roles):\n",
    "        # Compute the length of single strand sticky ends or fusion sites\n",
    "        product_5_prime_ss_strand, product_5_prime_ss_end = backbone.seq.five_prime_end()\n",
    "        product_3_prime_ss_strand, product_3_prime_ss_end = backbone.seq.three_prime_end()\n",
    "        product_sequence = str(backbone.seq)\n",
    "        prod_component_definition, prod_seq = dna_component_with_sequence(identity=f'{reactant.name}_backbone', sequence=product_sequence, **kwargs) #str(product_sequence))\n",
    "        # add sticky ends features\n",
    "        five_prime_fusion_site_location = sbol3.Range(sequence=product_sequence, start=1, end=len(product_5_prime_ss_end), order=1)\n",
    "        three_prime_fusion_site_location = sbol3.Range(sequence=product_sequence, start=len(product_sequence)-len(product_3_prime_ss_end)+1, end=len(product_sequence), order=3)\n",
    "        fusion_sites_feature = sbol3.SequenceFeature(locations=[five_prime_fusion_site_location, three_prime_fusion_site_location], roles=[tyto.SO.insertion_site])\n",
    "        prod_component_definition.roles.append(tyto.SO.plasmid_vector)\n",
    "        prod_component_definition.features.append(fusion_sites_feature)\n",
    "\n",
    "    else: raise NotImplementedError('The reactant has no valid roles')\n",
    "\n",
    "    #Add reference to part in backbone\n",
    "    reactant_subcomponent = sbol3.SubComponent(reactant)\n",
    "    prod_component_definition.features.append(reactant_subcomponent)\n",
    "    # Create reactant Participation.\n",
    "    react_subcomp = sbol3.SubComponent(reactant)\n",
    "    assembly_plan.features.append(react_subcomp)\n",
    "    reactant_participation = sbol3.Participation(roles=[sbol3.SBO_REACTANT], participant=react_subcomp)\n",
    "    participations.append(reactant_participation)\n",
    "    \n",
    "    prod_subcomp = sbol3.SubComponent(prod_comp)\n",
    "    assembly_plan.features.append(prod_subcomp)\n",
    "    product_participation = sbol3.Participation(roles=[sbol3.SBO_PRODUCT], participant=prod_subcomp)\n",
    "    participations.append(product_participation)\n",
    "   \n",
    "    # Make Interaction\n",
    "    interaction = sbol3.Interaction(types=[tyto.SBO.cleavage], participations=participations)\n",
    "    assembly_plan.interactions.append(interaction)\n",
    "                    \n",
    "    return prod_comp, prod_seq"
   ]
  },
  {
   "cell_type": "markdown",
   "metadata": {},
   "source": [
    "## SBOL2 implementation"
   ]
  },
  {
   "cell_type": "code",
   "execution_count": 16,
   "metadata": {},
   "outputs": [],
   "source": [
    "# helper function\n",
    "def is_circular(obj: Union[sbol2.ComponentDefinition, sbol2.Component]) -> bool:\n",
    "    \"\"\"Check if an SBOL Component or Feature is circular.\n",
    "    :param obj: design to be checked\n",
    "    :return: true if circular\n",
    "    \"\"\"    \n",
    "    return any(n==sbol2.SO_CIRCULAR for n in obj.types)"
   ]
  },
  {
   "cell_type": "code",
   "execution_count": 34,
   "metadata": {},
   "outputs": [],
   "source": [
    "def digestion2(reactant:sbol2.ModuleDefinition, restriction_enzymes:List[sbol2.ComponentDefinition], assembly_plan:sbol2.ModuleDefinition, document: sbol2.Document, **kwargs)-> Tuple[sbol2.ComponentDefinition, sbol2.Sequence]:\n",
    "    \"\"\"Digests a ModuleDefinition using the provided restriction enzymes and creates a product ComponentDefinition and a digestion Interaction.\n",
    "    The product ComponentDefinition is assumed to be the insert for parts in backbone and the open backbone for backbones.\n",
    "\n",
    "    :param reactant: DNA to be digested as SBOL ModuleDefinition, usually a part_in_backbone. \n",
    "    :param restriction_enzymes: Restriction enzymes used ComponentDefinition.\n",
    "    :param document: SBOL2 document to be used to extract referenced objects.\n",
    "    :return: A tuple of ComponentDefinition and Sequence.\n",
    "    \"\"\"\n",
    "    # extract component definition from module\n",
    "    reactant_def_URI = reactant.functionalComponents[0].definition\n",
    "    reactant_component_definition = document.getComponentDefinition(reactant_def_URI)\n",
    "\n",
    "    if sbol2.BIOPAX_DNA not in reactant_component_definition.types:\n",
    "        raise TypeError(f'The reactant should has a DNA type. Types founded {reactant.types}.')\n",
    "    if len(reactant_component_definition.sequences)!=1: # TODO review if true for MD, maybe for MD it will be 5\n",
    "        # looks like module def has 5 sequences, maybe try to extract toplevel?\n",
    "        raise ValueError(f'The reactant needs to have precisely one sequence. The input reactant has {len(reactant.sequences)} sequences')\n",
    "    participations=[]\n",
    "    restriction_enzymes_pydna=[] \n",
    "    \n",
    "    for re in restriction_enzymes:\n",
    "        enzyme = Restriction.__dict__[re.name]\n",
    "        restriction_enzymes_pydna.append(enzyme)\n",
    "        modifier_participation = sbol2.Participation(uri='restriction', participant=re)\n",
    "        modifier_participation.roles = ['http://identifiers.org/biomodels.sbo/SBO:0000019']\n",
    "        participations.append(modifier_participation)\n",
    "\n",
    "    # Inform topology to PyDNA, if not found assuming linear. \n",
    "    if is_circular(reactant_component_definition):\n",
    "        circular=True\n",
    "        linear=False\n",
    "    else: \n",
    "        circular=False\n",
    "        linear=True\n",
    "        \n",
    "    reactant_seq = reactant_component_definition.sequences[0]\n",
    "    reactant_seq = document.getSequence(reactant_seq).elements\n",
    "    # Dseqrecord is from PyDNA package with reactant sequence\n",
    "    ds_reactant = Dseqrecord(reactant_seq, circular=circular)\n",
    "    print(f\"ds reactant: {ds_reactant}\")\n",
    "    print(f\"restriction enzymes: {restriction_enzymes_pydna}\")\n",
    "    digested_reactant = ds_reactant.cut(restriction_enzymes_pydna) #TODO see if ds_reactant.cut is working, causing problems downstream\n",
    "\n",
    "    print(f\"digested reactant: {digested_reactant}\")\n",
    "\n",
    "\n",
    "    if len(digested_reactant)<2 or len(digested_reactant)>3: \n",
    "        raise NotImplementedError(f'Not supported number of products. Found{len(digested_reactant)}')\n",
    "    #TODO select them based on content rather than size.\n",
    "    elif circular and len(digested_reactant)==2:\n",
    "        part_extract, backbone = sorted(digested_reactant, key=len)\n",
    "    elif linear and len(digested_reactant)==3:\n",
    "        prefix, part_extract, suffix = digested_reactant\n",
    "    else: raise NotImplementedError('The reactant has no valid topology type')\n",
    "    \n",
    "    # Extracting roles from features\n",
    "    reactant_features_roles = []\n",
    "    for f in reactant_component_definition.components:\n",
    "        for r in f.roles:\n",
    "             reactant_features_roles.append(r)\n",
    "    # if part\n",
    "    test = True\n",
    "    if test == True: #any(n==tyto.SO.engineered_insert for n in reactant_features_roles):\n",
    "        # Compute the length of single strand sticky ends or fusion sites\n",
    "        product_5_prime_ss_strand, product_5_prime_ss_end = part_extract.seq.five_prime_end()\n",
    "        product_3_prime_ss_strand, product_3_prime_ss_end = part_extract.seq.three_prime_end()\n",
    "    \n",
    "        product_sequence = str(part_extract.seq)\n",
    "        prod_component_definition, prod_seq = dna_componentdefinition_with_sequence2(identity=f'{reactant_component_definition.name}_part_extract', sequence=product_sequence, **kwargs) #str(product_sequence))\n",
    "        # add sticky ends annotations\n",
    "        five_prime_fusion_site_location = sbol2.Range(uri=\"five_prime_fusion_site_location\", start=1, end=len(product_5_prime_ss_end)) #sequence=product_sequence, order 1\n",
    "        three_prime_fusion_site_location = sbol2.Range(uri=\"three_prime_fusion_site_location\", start=len(product_sequence)-len(product_3_prime_ss_end)+1, end=len(product_sequence)) #sequence=product_sequence, order 3\n",
    "        fusion_sites_annotation = sbol2.SequenceAnnotation(uri=\"fusion_sites_annotation\")\n",
    "        fusion_sites_annotation.locations.add(five_prime_fusion_site_location)\n",
    "        fusion_sites_annotation.locations.add(three_prime_fusion_site_location)\n",
    "        fusion_sites_annotation.addRole(tyto.SO.insertion_site)\n",
    "\n",
    "        prod_component_definition.addRole(tyto.SO.engineered_insert) \n",
    "        prod_component_definition.sequenceAnnotations.add(fusion_sites_annotation)\n",
    "\n",
    "    # if backbone\n",
    "    elif any(n==tyto.SO.deletion for n in reactant_features_roles):\n",
    "        # Compute the length of single strand sticky ends or fusion sites\n",
    "        product_5_prime_ss_strand, product_5_prime_ss_end = backbone.seq.five_prime_end()\n",
    "        product_3_prime_ss_strand, product_3_prime_ss_end = backbone.seq.three_prime_end()\n",
    "        product_sequence = str(backbone.seq)\n",
    "        prod_component_definition, prod_seq = dna_componentdefinition_with_sequence2(identity=f'{reactant_component_definition.name}_backbone', sequence=product_sequence, **kwargs) #str(product_sequence))\n",
    "        # add sticky ends annotations\n",
    "        five_prime_fusion_site_location = sbol2.Range(uri=\"five_prime_fusion_site_location\", start=1, end=len(product_5_prime_ss_end)) #sequence=product_sequence, order 1\n",
    "        three_prime_fusion_site_location = sbol2.Range(uri=\"three_prime_fusion_site_location\", start=len(product_sequence)-len(product_3_prime_ss_end)+1, end=len(product_sequence)) #sequence=product_sequence, order 3\n",
    "        fusion_sites_annotation = sbol2.SequenceAnnotation(uri=\"fusion_sites_annotation\")\n",
    "        fusion_sites_annotation.locations.add(five_prime_fusion_site_location)\n",
    "        fusion_sites_annotation.locations.add(three_prime_fusion_site_location)\n",
    "        fusion_sites_annotation.addRole(tyto.SO.insertion_site)\n",
    "\n",
    "        prod_component_definition.addRole(tyto.SO.plasmid_vector) \n",
    "        prod_component_definition.sequenceAnnotations.add(fusion_sites_annotation)\n",
    "\n",
    "\n",
    "    else: raise NotImplementedError('The reactant has no valid roles')\n",
    "\n",
    "    #Add reference to part in backbone\n",
    "    reactant_component = sbol2.FunctionalComponent(uri=\"reactant_component\", definition=reactant_component_definition)\n",
    "    prod_component_definition.components.add(reactant_component)\n",
    "    # Create reactant Participation.\n",
    "    reaction_component = sbol2.FunctionalComponent(uri=\"reaction_component\", definition=reactant_component_definition)\n",
    "    assembly_plan.functionalComponents.add(reaction_component)\n",
    "    reactant_participation = sbol2.Participation(uri=\"reactant_participation\", participant=reaction_component)\n",
    "    reactant_participation.roles = [sbol2.SBO_REACTANT]\n",
    "    participations.append(reactant_participation)\n",
    "    \n",
    "    prod_subcomp = sbol2.FunctionalComponent(uri=\"product_component\", definition=prod_component_definition)\n",
    "    assembly_plan.functionalComponents.add(prod_subcomp)\n",
    "    product_participation = sbol2.Participation(uri=\"product_participation\", participant=prod_subcomp)\n",
    "    product_participation.roles = [sbol2.SBO_REACTANT]\n",
    "    participations.append(product_participation)\n",
    "   \n",
    "    # Make Interaction\n",
    "    interaction = sbol2.Interaction(uri=\"asssembly_plan_interaction\", interaction_type=tyto.SBO.cleavage)\n",
    "    interaction.participations = participations\n",
    "    assembly_plan.interactions.add(interaction)\n",
    "                    \n",
    "    return prod_component_definition, prod_seq"
   ]
  },
  {
   "cell_type": "markdown",
   "metadata": {},
   "source": [
    "## Tests"
   ]
  },
  {
   "cell_type": "code",
   "execution_count": 39,
   "metadata": {},
   "outputs": [
    {
     "name": "stderr",
     "output_type": "stream",
     "text": [
      "[WARNING] term.py 278:  _part_extract_seq does not look like a valid URI, trying to serialize this will break.\n",
      "[WARNING] term.py 278: / _part_extract_seq does not look like a valid URI, trying to serialize this will break.\n",
      "[WARNING] term.py 278: http://examples.org/ _part_extract_seq does not look like a valid URI, trying to serialize this will break.\n",
      "[WARNING] term.py 278: http://examples.org/ _part_extract_seq does not look like a valid URI, trying to serialize this will break.\n",
      "[WARNING] term.py 278:  _part_extract_seq does not look like a valid URI, trying to serialize this will break.\n",
      "[WARNING] term.py 278:  _part_extract_seq does not look like a valid URI, trying to serialize this will break.\n",
      "[WARNING] term.py 278: http://examples.org/ _part_extract_seq does not look like a valid URI, trying to serialize this will break.\n",
      "[WARNING] term.py 278: http://examples.org/ _part_extract_seq does not look like a valid URI, trying to serialize this will break.\n",
      "[WARNING] term.py 278: http://examples.org/Sequence/ _part_extract_seq/1 does not look like a valid URI, trying to serialize this will break.\n",
      "[WARNING] term.py 278: http://examples.org/Sequence/ _part_extract_seq/1 does not look like a valid URI, trying to serialize this will break.\n",
      "[WARNING] term.py 278: http://examples.org/Sequence/ _part_extract_seq does not look like a valid URI, trying to serialize this will break.\n",
      "[WARNING] term.py 278:  _part_extract does not look like a valid URI, trying to serialize this will break.\n",
      "[WARNING] term.py 278: / _part_extract does not look like a valid URI, trying to serialize this will break.\n",
      "[WARNING] term.py 278: http://examples.org/ _part_extract does not look like a valid URI, trying to serialize this will break.\n",
      "[WARNING] term.py 278: http://examples.org/ _part_extract does not look like a valid URI, trying to serialize this will break.\n",
      "[WARNING] term.py 278:  _part_extract does not look like a valid URI, trying to serialize this will break.\n",
      "[WARNING] term.py 278:  _part_extract does not look like a valid URI, trying to serialize this will break.\n",
      "[WARNING] term.py 278: http://examples.org/ _part_extract does not look like a valid URI, trying to serialize this will break.\n",
      "[WARNING] term.py 278: http://examples.org/ _part_extract does not look like a valid URI, trying to serialize this will break.\n",
      "[WARNING] term.py 278: http://examples.org/ComponentDefinition/ _part_extract/1 does not look like a valid URI, trying to serialize this will break.\n",
      "[WARNING] term.py 278: http://examples.org/ComponentDefinition/ _part_extract/1 does not look like a valid URI, trying to serialize this will break.\n",
      "[WARNING] term.py 278: http://examples.org/ComponentDefinition/ _part_extract does not look like a valid URI, trying to serialize this will break.\n",
      "[WARNING] term.py 278: http://examples.org/Sequence/ _part_extract_seq/1 does not look like a valid URI, trying to serialize this will break.\n",
      "[WARNING] term.py 278: http://examples.org/ComponentDefinition/ _part_extract/fusion_sites_annotation does not look like a valid URI, trying to serialize this will break.\n",
      "[WARNING] term.py 278: http://examples.org/ComponentDefinition/ _part_extract/fusion_sites_annotation/1 does not look like a valid URI, trying to serialize this will break.\n",
      "[WARNING] term.py 278: http://examples.org/ComponentDefinition/ _part_extract/fusion_sites_annotation/1 does not look like a valid URI, trying to serialize this will break.\n",
      "[WARNING] term.py 278: http://examples.org/ComponentDefinition/ _part_extract/fusion_sites_annotation does not look like a valid URI, trying to serialize this will break.\n",
      "[WARNING] term.py 278: http://examples.org/ComponentDefinition/ _part_extract/fusion_sites_annotation/five_prime_fusion_site_location does not look like a valid URI, trying to serialize this will break.\n",
      "[WARNING] term.py 278: http://examples.org/ComponentDefinition/ _part_extract/fusion_sites_annotation/five_prime_fusion_site_location/1 does not look like a valid URI, trying to serialize this will break.\n",
      "[WARNING] term.py 278: http://examples.org/ComponentDefinition/ _part_extract/fusion_sites_annotation/five_prime_fusion_site_location/1 does not look like a valid URI, trying to serialize this will break.\n",
      "[WARNING] term.py 278: http://examples.org/ComponentDefinition/ _part_extract/fusion_sites_annotation/five_prime_fusion_site_location does not look like a valid URI, trying to serialize this will break.\n",
      "[WARNING] term.py 278: http://examples.org/ComponentDefinition/ _part_extract/fusion_sites_annotation/three_prime_fusion_site_location does not look like a valid URI, trying to serialize this will break.\n",
      "[WARNING] term.py 278: http://examples.org/ComponentDefinition/ _part_extract/fusion_sites_annotation/three_prime_fusion_site_location/1 does not look like a valid URI, trying to serialize this will break.\n",
      "[WARNING] term.py 278: http://examples.org/ComponentDefinition/ _part_extract/fusion_sites_annotation/three_prime_fusion_site_location/1 does not look like a valid URI, trying to serialize this will break.\n",
      "[WARNING] term.py 278: http://examples.org/ComponentDefinition/ _part_extract/fusion_sites_annotation/three_prime_fusion_site_location does not look like a valid URI, trying to serialize this will break.\n",
      "[WARNING] term.py 278: http://examples.org/ComponentDefinition/ _part_extract/reactant_component does not look like a valid URI, trying to serialize this will break.\n",
      "[WARNING] term.py 278: http://examples.org/ComponentDefinition/ _part_extract/reactant_component/1 does not look like a valid URI, trying to serialize this will break.\n",
      "[WARNING] term.py 278: http://examples.org/ComponentDefinition/ _part_extract/reactant_component/1 does not look like a valid URI, trying to serialize this will break.\n",
      "[WARNING] term.py 278: http://examples.org/ComponentDefinition/ _part_extract/reactant_component does not look like a valid URI, trying to serialize this will break.\n",
      "[WARNING] term.py 278: http://examples.org/ComponentDefinition/ _part_extract/1 does not look like a valid URI, trying to serialize this will break.\n"
     ]
    },
    {
     "name": "stdout",
     "output_type": "stream",
     "text": [
      "https://sbolcanvas.org/j0nju1Eb/1\n",
      "{'owned_objects': {'http://sbols.org/v2#sequenceAnnotation': [<sbol2.sequenceannotation.SequenceAnnotation object at 0x7fea5a15c190>, <sbol2.sequenceannotation.SequenceAnnotation object at 0x7fea5a158940>, <sbol2.sequenceannotation.SequenceAnnotation object at 0x7fea5a15c610>, <sbol2.sequenceannotation.SequenceAnnotation object at 0x7fea5a15cac0>], 'http://sbols.org/v2#component': [<sbol2.component.Component object at 0x7fea5a1553d0>, <sbol2.component.Component object at 0x7fea5a158340>, <sbol2.component.Component object at 0x7fea5a13ec10>, <sbol2.component.Component object at 0x7fea5a155d00>], 'http://sbols.org/v2#sequenceConstraint': [<sbol2.sequenceconstraint.SequenceConstraint object at 0x7fea5a165a60>, <sbol2.sequenceconstraint.SequenceConstraint object at 0x7fea5a165520>, <sbol2.sequenceconstraint.SequenceConstraint object at 0x7fea5a165e80>]}, 'properties': {'http://sbols.org/v2#identity': [rdflib.term.URIRef('https://sbolcanvas.org/j0nju1Eb/1')], 'http://sbols.org/v2#persistentIdentity': [rdflib.term.URIRef('https://sbolcanvas.org/j0nju1Eb')], 'http://sbols.org/v2#displayId': [rdflib.term.Literal('j0nju1Eb')], 'http://sbols.org/v2#version': [rdflib.term.Literal('1')], 'http://purl.org/dc/terms/title': [rdflib.term.Literal(' ')], 'http://purl.org/dc/terms/description': [], 'http://www.w3.org/ns/prov#wasDerivedFrom': [], 'http://www.w3.org/ns/prov#wasGeneratedBy': [], 'http://sbols.org/v2#attachment': [], 'http://sbols.org/v2#type': [rdflib.term.URIRef('http://www.biopax.org/release/biopax-level3.owl#DnaRegion'), rdflib.term.URIRef('http://identifiers.org/so/SO:0000988')], 'http://sbols.org/v2#role': [rdflib.term.URIRef('http://identifiers.org/so/SO:0000110')], 'http://sbols.org/v2#sequence': [rdflib.term.URIRef('https://sbolcanvas.org/j0nju1Eb_sequence')]}, 'doc': <sbol2.document.Document object at 0x7fea5a10caf0>, 'parent': <sbol2.document.Document object at 0x7fea5a10caf0>, '_default_namespace': None, '_hidden_properties': [], 'rdf_type': 'http://sbols.org/v2#ComponentDefinition', '_namespaces': {}, 'identity': <sbol2.property.URIProperty object at 0x7fea5a152340>, 'persistentIdentity': <sbol2.property.URIProperty object at 0x7fea5a1523d0>, 'displayId': <sbol2.property.TextProperty object at 0x7fea5a152400>, 'version': <sbol2.versionproperty.VersionProperty object at 0x7fea5a152430>, 'name': <sbol2.property.TextProperty object at 0x7fea5a1524c0>, 'description': <sbol2.property.TextProperty object at 0x7fea5a152520>, 'wasDerivedFrom': <sbol2.property.URIProperty object at 0x7fea5a152580>, 'wasGeneratedBy': <sbol2.property.ReferencedObject object at 0x7fea5a1525e0>, 'attachments': <sbol2.property.ReferencedObject object at 0x7fea5a152640>, 'types': <sbol2.property.URIProperty object at 0x7fea5a1526a0>, 'roles': <sbol2.property.URIProperty object at 0x7fea5a152700>, 'sequences': <sbol2.property.ReferencedObject object at 0x7fea5a152730>, 'sequenceAnnotations': <sbol2.property.OwnedObject object at 0x7fea5a152790>, 'components': <sbol2.property.OwnedObject object at 0x7fea5a1527c0>, 'sequenceConstraints': <sbol2.property.OwnedObject object at 0x7fea5a1527f0>, '_sequence_cache': None}\n",
      "['https://sbolcanvas.org/j0nju1Eb_sequence']\n",
      "ds reactant: Dseqrecord\n",
      "circular: True\n",
      "size: 2095\n",
      "ID: id\n",
      "Name: name\n",
      "Description: description\n",
      "Number of features: 0\n",
      "/molecule_type=DNA\n",
      "Dseq(o2095)\n",
      "GGAG..ctcg\n",
      "CCTC..gagc\n",
      "restriction enzymes: [BsaI]\n",
      "digested reactant: (Dseqrecord(-43), Dseqrecord(-2060))\n"
     ]
    }
   ],
   "source": [
    "digestion_doc = sbol2.Document()\n",
    "digestion_doc.read('Test/Part_in_backbone_defined.xml')\n",
    "md = digestion_doc.getModuleDefinition(\"https://sbolcanvas.org/module1\")\n",
    "assembly_plan = sbol2.ModuleDefinition('new_assembly_plan')\n",
    "\n",
    "\n",
    "# all attributes of ModuleDefinition\n",
    "# for element in md.__dict__:\n",
    "#     print(element)\n",
    "\n",
    "\n",
    "# top level functional component(what we are after)\n",
    "top_func_component = md.functionalComponents[0]\n",
    "\n",
    "\n",
    "comp_def_uri = top_func_component.definition # uri as a string\n",
    "comp_def = digestion_doc.getComponentDefinition(comp_def_uri) #uri as object(annoying that it has to be done this way)\n",
    "\n",
    "print(comp_def)\n",
    "print(comp_def.__dict__)\n",
    "print(comp_def.sequences)\n",
    "\n",
    "# for subcomp in comp_def.components:\n",
    "#     print(f'Subcomponent ID: {subcomp.identity}')\n",
    "#     print(f'Definition: {subcomp.definition}')\n",
    "\n",
    "\n",
    "# top_level = \n",
    "# print(top_level)\n",
    "\n",
    "digestion2(md, [bsai], assembly_plan, digestion_doc)\n",
    "digestion_doc.add(assembly_plan)"
   ]
  },
  {
   "cell_type": "code",
   "execution_count": 40,
   "metadata": {},
   "outputs": [
    {
     "data": {
      "text/plain": [
       "'Invalid. sbol-12002:\\x00 Strong Validation Error:\\x00 The participant property of a Participation is REQUIRED and MUST contain a URI reference to a FunctionalComponent. \\x00Reference: SBOL Version 2.3.0 Section 7.9.4 on page 45 :\\x00 http://examples.org/ModuleDefinition/new_assembly_plan/asssembly_plan_interaction/product_participation/1\\x00  Validation failed.'"
      ]
     },
     "execution_count": 40,
     "metadata": {},
     "output_type": "execute_result"
    }
   ],
   "source": [
    "digestion_doc.write('digestion2_test.xml')"
   ]
  },
  {
   "cell_type": "markdown",
   "metadata": {},
   "source": [
    "# Ligation"
   ]
  },
  {
   "cell_type": "code",
   "execution_count": null,
   "metadata": {},
   "outputs": [],
   "source": [
    "def ligation2(): pass"
   ]
  }
 ],
 "metadata": {
  "kernelspec": {
   "display_name": "base",
   "language": "python",
   "name": "python3"
  },
  "language_info": {
   "codemirror_mode": {
    "name": "ipython",
    "version": 3
   },
   "file_extension": ".py",
   "mimetype": "text/x-python",
   "name": "python",
   "nbconvert_exporter": "python",
   "pygments_lexer": "ipython3",
   "version": "3.12.7"
  }
 },
 "nbformat": 4,
 "nbformat_minor": 2
}
