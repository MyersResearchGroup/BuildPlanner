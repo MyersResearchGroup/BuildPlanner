{
 "cells": [
  {
   "cell_type": "code",
   "execution_count": 1,
   "metadata": {},
   "outputs": [
    {
     "name": "stdout",
     "output_type": "stream",
     "text": [
      "Requirement already satisfied: sbol2build in /opt/miniconda3/lib/python3.12/site-packages (0.0b1)\n",
      "Requirement already satisfied: sbol2 in /opt/miniconda3/lib/python3.12/site-packages (from sbol2build) (1.4.1)\n",
      "Requirement already satisfied: biopython in /opt/miniconda3/lib/python3.12/site-packages (from sbol2build) (1.84)\n",
      "Requirement already satisfied: pydna in /opt/miniconda3/lib/python3.12/site-packages (from sbol2build) (5.4.0)\n",
      "Requirement already satisfied: numpy in /opt/miniconda3/lib/python3.12/site-packages (from biopython->sbol2build) (2.2.2)\n",
      "Requirement already satisfied: appdirs>=1.4.4 in /opt/miniconda3/lib/python3.12/site-packages (from pydna->sbol2build) (1.4.4)\n",
      "Requirement already satisfied: networkx>=2.8.8 in /opt/miniconda3/lib/python3.12/site-packages (from pydna->sbol2build) (3.4.2)\n",
      "Requirement already satisfied: prettytable>=3.5.0 in /opt/miniconda3/lib/python3.12/site-packages (from pydna->sbol2build) (3.12.0)\n",
      "Requirement already satisfied: pydivsufsort>=0.0.14 in /opt/miniconda3/lib/python3.12/site-packages (from pydna->sbol2build) (0.0.18)\n",
      "Requirement already satisfied: pyfiglet==0.8.post1 in /opt/miniconda3/lib/python3.12/site-packages (from pydna->sbol2build) (0.8.post1)\n",
      "Requirement already satisfied: seguid>=0.0.5 in /opt/miniconda3/lib/python3.12/site-packages (from pydna->sbol2build) (0.1.0)\n",
      "Requirement already satisfied: rdflib>=5.0 in /opt/miniconda3/lib/python3.12/site-packages (from sbol2->sbol2build) (7.1.3)\n",
      "Requirement already satisfied: python-dateutil in /opt/miniconda3/lib/python3.12/site-packages (from sbol2->sbol2build) (2.9.0.post0)\n",
      "Requirement already satisfied: deprecated in /opt/miniconda3/lib/python3.12/site-packages (from sbol2->sbol2build) (1.2.15)\n",
      "Requirement already satisfied: lxml in /opt/miniconda3/lib/python3.12/site-packages (from sbol2->sbol2build) (5.3.0)\n",
      "Requirement already satisfied: requests in /opt/miniconda3/lib/python3.12/site-packages (from sbol2->sbol2build) (2.32.3)\n",
      "Requirement already satisfied: urllib3 in /opt/miniconda3/lib/python3.12/site-packages (from sbol2->sbol2build) (2.2.3)\n",
      "Requirement already satisfied: packaging>=20.0 in /opt/miniconda3/lib/python3.12/site-packages (from sbol2->sbol2build) (24.1)\n",
      "Requirement already satisfied: wcwidth in /opt/miniconda3/lib/python3.12/site-packages (from prettytable>=3.5.0->pydna->sbol2build) (0.2.5)\n",
      "Requirement already satisfied: wheel in /opt/miniconda3/lib/python3.12/site-packages (from pydivsufsort>=0.0.14->pydna->sbol2build) (0.44.0)\n",
      "Requirement already satisfied: pyparsing<4,>=2.1.0 in /opt/miniconda3/lib/python3.12/site-packages (from rdflib>=5.0->sbol2->sbol2build) (2.4.7)\n",
      "Requirement already satisfied: wrapt<2,>=1.10 in /opt/miniconda3/lib/python3.12/site-packages (from deprecated->sbol2->sbol2build) (1.17.2)\n",
      "Requirement already satisfied: six>=1.5 in /opt/miniconda3/lib/python3.12/site-packages (from python-dateutil->sbol2->sbol2build) (1.16.0)\n",
      "Requirement already satisfied: charset-normalizer<4,>=2 in /opt/miniconda3/lib/python3.12/site-packages (from requests->sbol2->sbol2build) (3.3.2)\n",
      "Requirement already satisfied: idna<4,>=2.5 in /opt/miniconda3/lib/python3.12/site-packages (from requests->sbol2->sbol2build) (3.7)\n",
      "Requirement already satisfied: certifi>=2017.4.17 in /opt/miniconda3/lib/python3.12/site-packages (from requests->sbol2->sbol2build) (2024.8.30)\n"
     ]
    }
   ],
   "source": [
    "!pip install sbol2build"
   ]
  },
  {
   "cell_type": "code",
   "execution_count": 1,
   "metadata": {},
   "outputs": [],
   "source": [
    "import sbol2build as s2b"
   ]
  },
  {
   "cell_type": "code",
   "execution_count": null,
   "metadata": {},
   "outputs": [],
   "source": [
    "bsai = s2b.rebase_restriction_enzyme(\"BsaI\")"
   ]
  },
  {
   "cell_type": "code",
   "execution_count": 3,
   "metadata": {},
   "outputs": [
    {
     "data": {
      "text/plain": [
       "<sbol2.componentdefinition.ComponentDefinition at 0x7f872f7a2ca0>"
      ]
     },
     "execution_count": 3,
     "metadata": {},
     "output_type": "execute_result"
    }
   ],
   "source": [
    "bsai"
   ]
  },
  {
   "cell_type": "code",
   "execution_count": null,
   "metadata": {},
   "outputs": [],
   "source": [
    "pro = s2b.dna_componentdefinition_with_sequence('promoter', 'acgt')"
   ]
  },
  {
   "cell_type": "code",
   "execution_count": 5,
   "metadata": {},
   "outputs": [
    {
     "data": {
      "text/plain": [
       "(<sbol2.componentdefinition.ComponentDefinition at 0x7f872f7a4220>,\n",
       " <sbol2.sequence.Sequence at 0x7f872f7a4160>)"
      ]
     },
     "execution_count": 5,
     "metadata": {},
     "output_type": "execute_result"
    }
   ],
   "source": [
    "pro"
   ]
  },
  {
   "cell_type": "code",
   "execution_count": 7,
   "metadata": {},
   "outputs": [
    {
     "data": {
      "text/plain": [
       "'acgt'"
      ]
     },
     "execution_count": 7,
     "metadata": {},
     "output_type": "execute_result"
    }
   ],
   "source": [
    "pro[1].elements"
   ]
  },
  {
   "cell_type": "code",
   "execution_count": null,
   "metadata": {},
   "outputs": [],
   "source": []
  }
 ],
 "metadata": {
  "kernelspec": {
   "display_name": "base",
   "language": "python",
   "name": "python3"
  },
  "language_info": {
   "codemirror_mode": {
    "name": "ipython",
    "version": 3
   },
   "file_extension": ".py",
   "mimetype": "text/x-python",
   "name": "python",
   "nbconvert_exporter": "python",
   "pygments_lexer": "ipython3",
   "version": "3.12.7"
  }
 },
 "nbformat": 4,
 "nbformat_minor": 2
}
